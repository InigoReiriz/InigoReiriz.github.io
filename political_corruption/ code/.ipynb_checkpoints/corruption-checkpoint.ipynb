{
 "cells": [
  {
   "cell_type": "markdown",
   "metadata": {},
   "source": [
    "# Corruption"
   ]
  },
  {
   "cell_type": "code",
   "execution_count": 1,
   "metadata": {
    "collapsed": true
   },
   "outputs": [],
   "source": [
    "import pandas as pd\n",
    "import numpy as np\n",
    "import bs4\n",
    "from bs4 import BeautifulSoup\n",
    "import urllib2"
   ]
  },
  {
   "cell_type": "code",
   "execution_count": 2,
   "metadata": {
    "collapsed": false
   },
   "outputs": [],
   "source": [
    "#download html table\n",
    "\n",
    "url = 'https://15mpedia.org/wiki/Lista_de_casos_de_corrupci%C3%B3n'\n",
    "\n",
    "#read url\n",
    "html = urllib2.urlopen(url).read()\n",
    "soup = BeautifulSoup(html)\n",
    "tables = soup.findAll(\"table\")\n",
    "\n",
    "Caso = []\n",
    "Ambito = []\n",
    "Partido = []\n",
    "\n",
    "for table in tables:\n",
    "    for row in table.findAll(\"tr\"):\n",
    "        cells = row.findAll(\"td\")\n",
    "        #For each \"tr\", assign each \"td\" to a variable.\n",
    "        if len(cells) == 4:\n",
    "            \n",
    "            Caso.append(cells[0].find(text=True).rstrip())\n",
    "            \n",
    "            if cells[1].find(text=True) == None: Ambito.append(np.nan)\n",
    "            else: Ambito.append(cells[1].find(text=True).rstrip())\n",
    "                \n",
    "            if cells[2].find(text=True) == None: Partido.append(np.nan)\n",
    "            else: Partido.append(cells[2].find(text=True).rstrip())\n",
    "                \n",
    "lista_corrupcion = pd.DataFrame()\n",
    "lista_corrupcion['Caso'] = Caso\n",
    "lista_corrupcion['Ambito'] = Ambito\n",
    "lista_corrupcion['Partido'] = Partido\n"
   ]
  },
  {
   "cell_type": "code",
   "execution_count": 3,
   "metadata": {
    "collapsed": false
   },
   "outputs": [],
   "source": [
    "ccaa_dic = {}\n",
    "for ccaa in set(lista_corrupcion['Ambito']):\n",
    "    df = lista_corrupcion[lista_corrupcion['Ambito'] == ccaa]\n",
    "    df = df.drop('Ambito', 1)\n",
    "    ccaa_dic[ccaa] = df"
   ]
  },
  {
   "cell_type": "code",
   "execution_count": 4,
   "metadata": {
    "collapsed": false
   },
   "outputs": [
    {
     "data": {
      "text/html": [
       "<div>\n",
       "<table border=\"1\" class=\"dataframe\">\n",
       "  <thead>\n",
       "    <tr style=\"text-align: right;\">\n",
       "      <th></th>\n",
       "      <th>Caso</th>\n",
       "      <th>Partido</th>\n",
       "    </tr>\n",
       "  </thead>\n",
       "  <tbody>\n",
       "    <tr>\n",
       "      <th>25</th>\n",
       "      <td>Caso De Miguel</td>\n",
       "      <td>Partido Nacionalista Vasco</td>\n",
       "    </tr>\n",
       "    <tr>\n",
       "      <th>32</th>\n",
       "      <td>Caso Epsilon</td>\n",
       "      <td>Partido Nacionalista Vasco</td>\n",
       "    </tr>\n",
       "    <tr>\n",
       "      <th>58</th>\n",
       "      <td>Caso Margüello</td>\n",
       "      <td>Partido Socialista de Euskadi-Euskadiko Ezkerra</td>\n",
       "    </tr>\n",
       "    <tr>\n",
       "      <th>63</th>\n",
       "      <td>Caso Miñano</td>\n",
       "      <td>Partido Nacionalista Vasco</td>\n",
       "    </tr>\n",
       "    <tr>\n",
       "      <th>79</th>\n",
       "      <td>Caso Plaold</td>\n",
       "      <td>Partido Socialista de Euskadi-Euskadiko Ezkerra</td>\n",
       "    </tr>\n",
       "    <tr>\n",
       "      <th>104</th>\n",
       "      <td>Caso Zambrana</td>\n",
       "      <td>Partido Nacionalista Vasco</td>\n",
       "    </tr>\n",
       "  </tbody>\n",
       "</table>\n",
       "</div>"
      ],
      "text/plain": [
       "               Caso                                          Partido\n",
       "25   Caso De Miguel                       Partido Nacionalista Vasco\n",
       "32     Caso Epsilon                       Partido Nacionalista Vasco\n",
       "58   Caso Margüello  Partido Socialista de Euskadi-Euskadiko Ezkerra\n",
       "63      Caso Miñano                       Partido Nacionalista Vasco\n",
       "79      Caso Plaold  Partido Socialista de Euskadi-Euskadiko Ezkerra\n",
       "104   Caso Zambrana                       Partido Nacionalista Vasco"
      ]
     },
     "execution_count": 4,
     "metadata": {},
     "output_type": "execute_result"
    }
   ],
   "source": [
    "ccaa_dic[u'Pa\\xeds Vasco']"
   ]
  },
  {
   "cell_type": "code",
   "execution_count": 5,
   "metadata": {
    "collapsed": false
   },
   "outputs": [
    {
     "data": {
      "text/html": [
       "<div>\n",
       "<table border=\"1\" class=\"dataframe\">\n",
       "  <thead>\n",
       "    <tr style=\"text-align: right;\">\n",
       "      <th></th>\n",
       "      <th>Comunidad</th>\n",
       "      <th>Capital</th>\n",
       "      <th>Coordenadas</th>\n",
       "    </tr>\n",
       "  </thead>\n",
       "  <tbody>\n",
       "    <tr>\n",
       "      <th>0</th>\n",
       "      <td>Andalucía</td>\n",
       "      <td>Sevilla</td>\n",
       "      <td>[37.367, 5.983]</td>\n",
       "    </tr>\n",
       "    <tr>\n",
       "      <th>1</th>\n",
       "      <td>Aragón</td>\n",
       "      <td>Zaragoza</td>\n",
       "      <td>[41.650, 0.883]</td>\n",
       "    </tr>\n",
       "    <tr>\n",
       "      <th>2</th>\n",
       "      <td>Asturias</td>\n",
       "      <td>Oviedo</td>\n",
       "      <td>[43.36000, 5.84500]</td>\n",
       "    </tr>\n",
       "    <tr>\n",
       "      <th>3</th>\n",
       "      <td>Islas Baleares</td>\n",
       "      <td>Palma de Mallorca</td>\n",
       "      <td>[39.567, 2.650]</td>\n",
       "    </tr>\n",
       "    <tr>\n",
       "      <th>4</th>\n",
       "      <td>Canarias</td>\n",
       "      <td>Santa Cruz de Tenerife</td>\n",
       "      <td>[28.150, 15.417]</td>\n",
       "    </tr>\n",
       "  </tbody>\n",
       "</table>\n",
       "</div>"
      ],
      "text/plain": [
       "        Comunidad                 Capital          Coordenadas\n",
       "0       Andalucía                 Sevilla      [37.367, 5.983]\n",
       "1          Aragón                Zaragoza      [41.650, 0.883]\n",
       "2        Asturias                  Oviedo  [43.36000, 5.84500]\n",
       "3  Islas Baleares       Palma de Mallorca      [39.567, 2.650]\n",
       "4        Canarias  Santa Cruz de Tenerife     [28.150, 15.417]"
      ]
     },
     "execution_count": 5,
     "metadata": {},
     "output_type": "execute_result"
    }
   ],
   "source": [
    "#get latitude and longitudes of each capital communities\n",
    "import re\n",
    "\n",
    "url = 'https://es.wikipedia.org/wiki/Anexo:Capitales_de_comunidades_aut%C3%B3nomas_de_Espa%C3%B1a'\n",
    "\n",
    "#read url\n",
    "html = urllib2.urlopen(url).read()\n",
    "soup = BeautifulSoup(html)\n",
    "tables = soup.findAll(\"table\")\n",
    "\n",
    "Comunidad = []\n",
    "Capital = []\n",
    "Coordenadas = []\n",
    "\n",
    "for table in tables:\n",
    "    for row in table.findAll(\"tr\"):\n",
    "        cells = row.findAll(\"td\")\n",
    "        #For each \"tr\", assign each \"td\" to a variable.\n",
    "        if len(cells) == 6:\n",
    "            \n",
    "            Comunidad.append(re.findall('title=\"(.*?)\">', str(cells[0]))[0])\n",
    "            Capital.append(re.findall('title=\"(.*?)\">', str(cells[1]))[0])\n",
    "            Coordenadas.append(re.findall(r\"\\d+\\.\\d+\", str(cells[5]))[0:2])\n",
    "            \n",
    "ccaa_coord = pd.DataFrame()\n",
    "ccaa_coord['Comunidad'] = Comunidad\n",
    "ccaa_coord['Capital'] = Capital\n",
    "ccaa_coord['Coordenadas'] = Coordenadas\n",
    "\n",
    "ccaa_coord.head()"
   ]
  },
  {
   "cell_type": "code",
   "execution_count": 6,
   "metadata": {
    "collapsed": true
   },
   "outputs": [],
   "source": [
    "# create json file to read in javascript\n",
    "\n"
   ]
  }
 ],
 "metadata": {
  "kernelspec": {
   "display_name": "Python 2",
   "language": "python",
   "name": "python2"
  },
  "language_info": {
   "codemirror_mode": {
    "name": "ipython",
    "version": 2
   },
   "file_extension": ".py",
   "mimetype": "text/x-python",
   "name": "python",
   "nbconvert_exporter": "python",
   "pygments_lexer": "ipython2",
   "version": "2.7.11"
  }
 },
 "nbformat": 4,
 "nbformat_minor": 0
}
