{
 "cells": [
  {
   "cell_type": "markdown",
   "metadata": {},
   "source": [
    "# Corruption"
   ]
  },
  {
   "cell_type": "code",
   "execution_count": 1,
   "metadata": {
    "collapsed": true
   },
   "outputs": [],
   "source": [
    "import pandas as pd\n",
    "import numpy as np\n",
    "import bs4\n",
    "from bs4 import BeautifulSoup\n",
    "import urllib2"
   ]
  },
  {
   "cell_type": "code",
   "execution_count": 2,
   "metadata": {
    "collapsed": false
   },
   "outputs": [
    {
     "data": {
      "text/html": [
       "<div>\n",
       "<table border=\"1\" class=\"dataframe\">\n",
       "  <thead>\n",
       "    <tr style=\"text-align: right;\">\n",
       "      <th></th>\n",
       "      <th>Caso</th>\n",
       "      <th>Comunidad</th>\n",
       "      <th>Partido</th>\n",
       "    </tr>\n",
       "  </thead>\n",
       "  <tbody>\n",
       "    <tr>\n",
       "      <th>0</th>\n",
       "      <td>Caso AVE</td>\n",
       "      <td>Nacional</td>\n",
       "      <td>Partido Socialista Obrero Español</td>\n",
       "    </tr>\n",
       "    <tr>\n",
       "      <th>1</th>\n",
       "      <td>Caso Acuamed</td>\n",
       "      <td>Nacional</td>\n",
       "      <td>Partido Popular</td>\n",
       "    </tr>\n",
       "    <tr>\n",
       "      <th>2</th>\n",
       "      <td>Caso Almenas</td>\n",
       "      <td>puebla de almenara</td>\n",
       "      <td>Partido Socialista Obrero Español</td>\n",
       "    </tr>\n",
       "    <tr>\n",
       "      <th>3</th>\n",
       "      <td>Caso Andratx</td>\n",
       "      <td>Baleares</td>\n",
       "      <td>Partido Popular</td>\n",
       "    </tr>\n",
       "    <tr>\n",
       "      <th>4</th>\n",
       "      <td>Caso Arcos</td>\n",
       "      <td>Andalucía</td>\n",
       "      <td>Partido Popular</td>\n",
       "    </tr>\n",
       "  </tbody>\n",
       "</table>\n",
       "</div>"
      ],
      "text/plain": [
       "           Caso           Comunidad                            Partido\n",
       "0      Caso AVE            Nacional  Partido Socialista Obrero Español\n",
       "1  Caso Acuamed            Nacional                    Partido Popular\n",
       "2  Caso Almenas  puebla de almenara  Partido Socialista Obrero Español\n",
       "3  Caso Andratx            Baleares                    Partido Popular\n",
       "4    Caso Arcos           Andalucía                    Partido Popular"
      ]
     },
     "execution_count": 2,
     "metadata": {},
     "output_type": "execute_result"
    }
   ],
   "source": [
    "#download html table\n",
    "\n",
    "url = 'https://15mpedia.org/wiki/Lista_de_casos_de_corrupci%C3%B3n'\n",
    "\n",
    "#read url\n",
    "html = urllib2.urlopen(url).read()\n",
    "soup = BeautifulSoup(html)\n",
    "tables = soup.findAll(\"table\")\n",
    "\n",
    "Caso = []\n",
    "Ambito = []\n",
    "Partido = []\n",
    "\n",
    "for table in tables:\n",
    "    for row in table.findAll(\"tr\"):\n",
    "        cells = row.findAll(\"td\")\n",
    "        #For each \"tr\", assign each \"td\" to a variable.\n",
    "        if len(cells) == 4:\n",
    "            \n",
    "            Caso.append(cells[0].find(text=True).rstrip())\n",
    "            \n",
    "            if cells[1].find(text=True) == None: Ambito.append(np.nan)\n",
    "            else: Ambito.append(cells[1].find(text=True).rstrip())\n",
    "                \n",
    "            if cells[2].find(text=True) == None: Partido.append(np.nan)\n",
    "            else: Partido.append(cells[2].find(text=True).rstrip())\n",
    "                \n",
    "lista_corrupcion = pd.DataFrame()\n",
    "lista_corrupcion['Caso'] = Caso\n",
    "lista_corrupcion['Comunidad'] = Ambito\n",
    "lista_corrupcion['Partido'] = Partido\n",
    "\n",
    "lista_corrupcion.head()"
   ]
  },
  {
   "cell_type": "code",
   "execution_count": 3,
   "metadata": {
    "collapsed": false
   },
   "outputs": [
    {
     "data": {
      "text/html": [
       "<div>\n",
       "<table border=\"1\" class=\"dataframe\">\n",
       "  <thead>\n",
       "    <tr style=\"text-align: right;\">\n",
       "      <th></th>\n",
       "      <th>Comunidad</th>\n",
       "      <th>Capital</th>\n",
       "      <th>Coordenadas</th>\n",
       "    </tr>\n",
       "  </thead>\n",
       "  <tbody>\n",
       "    <tr>\n",
       "      <th>0</th>\n",
       "      <td>Andalucía</td>\n",
       "      <td>Sevilla</td>\n",
       "      <td>[37.367, 5.983]</td>\n",
       "    </tr>\n",
       "    <tr>\n",
       "      <th>1</th>\n",
       "      <td>Aragón</td>\n",
       "      <td>Zaragoza</td>\n",
       "      <td>[41.650, 0.883]</td>\n",
       "    </tr>\n",
       "    <tr>\n",
       "      <th>2</th>\n",
       "      <td>Asturias</td>\n",
       "      <td>Oviedo</td>\n",
       "      <td>[43.36000, 5.84500]</td>\n",
       "    </tr>\n",
       "    <tr>\n",
       "      <th>3</th>\n",
       "      <td>Baleares</td>\n",
       "      <td>Palma de Mallorca</td>\n",
       "      <td>[39.567, 2.650]</td>\n",
       "    </tr>\n",
       "    <tr>\n",
       "      <th>4</th>\n",
       "      <td>Canarias</td>\n",
       "      <td>Santa Cruz de Tenerife</td>\n",
       "      <td>[28.150, 15.417]</td>\n",
       "    </tr>\n",
       "  </tbody>\n",
       "</table>\n",
       "</div>"
      ],
      "text/plain": [
       "   Comunidad                 Capital          Coordenadas\n",
       "0  Andalucía                 Sevilla      [37.367, 5.983]\n",
       "1     Aragón                Zaragoza      [41.650, 0.883]\n",
       "2   Asturias                  Oviedo  [43.36000, 5.84500]\n",
       "3   Baleares       Palma de Mallorca      [39.567, 2.650]\n",
       "4   Canarias  Santa Cruz de Tenerife     [28.150, 15.417]"
      ]
     },
     "execution_count": 3,
     "metadata": {},
     "output_type": "execute_result"
    }
   ],
   "source": [
    "#get latitude and longitudes of each capital communities\n",
    "import re\n",
    "\n",
    "url = 'https://es.wikipedia.org/wiki/Anexo:Capitales_de_comunidades_aut%C3%B3nomas_de_Espa%C3%B1a'\n",
    "\n",
    "#read url\n",
    "html = urllib2.urlopen(url).read()\n",
    "soup = BeautifulSoup(html)\n",
    "tables = soup.findAll(\"table\")\n",
    "\n",
    "Comunidad = []\n",
    "Capital = []\n",
    "Coordenadas = []\n",
    "\n",
    "for table in tables:\n",
    "    for row in table.findAll(\"tr\"):\n",
    "        cells = row.findAll(\"td\")\n",
    "        #For each \"tr\", assign each \"td\" to a variable.\n",
    "        if len(cells) == 6:\n",
    "            \n",
    "            Comunidad.append(re.findall('title=\"(.*?)\">', str(cells[0]))[0].decode('utf-8'))\n",
    "            Capital.append(re.findall('title=\"(.*?)\">', str(cells[1]))[0])\n",
    "            Coordenadas.append(re.findall(r\"\\d+\\.\\d+\", str(cells[5]))[0:2])\n",
    "            \n",
    "Comunidad[3] = Comunidad[3].replace(Comunidad[3], 'Baleares')\n",
    "         \n",
    "ccaa_coord = pd.DataFrame()\n",
    "ccaa_coord['Comunidad'] = Comunidad\n",
    "ccaa_coord['Capital'] = Capital\n",
    "ccaa_coord['Coordenadas'] = Coordenadas\n",
    "\n",
    "ccaa_coord.head()"
   ]
  },
  {
   "cell_type": "code",
   "execution_count": 4,
   "metadata": {
    "collapsed": false
   },
   "outputs": [
    {
     "data": {
      "text/html": [
       "<div>\n",
       "<table border=\"1\" class=\"dataframe\">\n",
       "  <thead>\n",
       "    <tr style=\"text-align: right;\">\n",
       "      <th></th>\n",
       "      <th>Caso</th>\n",
       "      <th>Partido</th>\n",
       "      <th>Comunidad</th>\n",
       "      <th>Capital</th>\n",
       "      <th>Coordenadas</th>\n",
       "    </tr>\n",
       "  </thead>\n",
       "  <tbody>\n",
       "    <tr>\n",
       "      <th>6</th>\n",
       "      <td>Caso Arroyo</td>\n",
       "      <td>Partido Popular</td>\n",
       "      <td>Castilla y León</td>\n",
       "      <td>Valladolid</td>\n",
       "      <td>[41.633, 4.717]</td>\n",
       "    </tr>\n",
       "    <tr>\n",
       "      <th>7</th>\n",
       "      <td>Caso Astapa</td>\n",
       "      <td>Partido Socialista Obrero Español</td>\n",
       "      <td>Andalucía</td>\n",
       "      <td>Sevilla</td>\n",
       "      <td>[37.367, 5.983]</td>\n",
       "    </tr>\n",
       "    <tr>\n",
       "      <th>9</th>\n",
       "      <td>Caso Baltar</td>\n",
       "      <td>Partido Popular</td>\n",
       "      <td>Galicia</td>\n",
       "      <td>Santiago de Compostela</td>\n",
       "      <td>[42.867, 8.550]</td>\n",
       "    </tr>\n",
       "    <tr>\n",
       "      <th>10</th>\n",
       "      <td>Caso Banca Catalana</td>\n",
       "      <td>Convergència i Unió</td>\n",
       "      <td>Cataluña</td>\n",
       "      <td>Barcelona</td>\n",
       "      <td>[41.383, 2.167]</td>\n",
       "    </tr>\n",
       "  </tbody>\n",
       "</table>\n",
       "</div>"
      ],
      "text/plain": [
       "                   Caso                            Partido        Comunidad  \\\n",
       "6           Caso Arroyo                    Partido Popular  Castilla y León   \n",
       "7           Caso Astapa  Partido Socialista Obrero Español        Andalucía   \n",
       "9           Caso Baltar                    Partido Popular          Galicia   \n",
       "10  Caso Banca Catalana                Convergència i Unió         Cataluña   \n",
       "\n",
       "                   Capital      Coordenadas  \n",
       "6               Valladolid  [41.633, 4.717]  \n",
       "7                  Sevilla  [37.367, 5.983]  \n",
       "9   Santiago de Compostela  [42.867, 8.550]  \n",
       "10               Barcelona  [41.383, 2.167]  "
      ]
     },
     "execution_count": 4,
     "metadata": {},
     "output_type": "execute_result"
    }
   ],
   "source": [
    "df = lista_corrupcion.merge(ccaa_coord,  how='left')\n",
    "cols = df.columns.tolist()\n",
    "# reorder columns\n",
    "cols = [cols[0]] + [cols[2]] + [cols[1]] + [cols[3]] + [cols[4]]\n",
    "# \"commit\" the reordering\n",
    "df = df[cols]\n",
    "df = df.dropna()\n",
    "df[3:7]"
   ]
  },
  {
   "cell_type": "code",
   "execution_count": 7,
   "metadata": {
    "collapsed": false
   },
   "outputs": [
    {
     "name": "stdout",
     "output_type": "stream",
     "text": [
      "[\n",
      "    {\n",
      "        'circle': {\n",
      "            'capital': 'Palma de Mallorca',\n",
      "            'caso': [\n",
      "                u'Caso Andratx',\n",
      "                u'Caso Bon Sosec',\n",
      "                u'Caso Funeraria',\n",
      "                u'Caso Ibatur/Pasarela',\n",
      "                u'Caso Palma Arena',\n",
      "                u'Caso Peaje',\n",
      "                u'Caso Picnic',\n",
      "                u'Caso Rasputín',\n",
      "                u'Caso Túnel de Sóller',\n",
      "            ],\n",
      "            'comunidad': u'Baleares',\n",
      "            'coordenadas': ['39.567', '2.650'],\n",
      "            'partido': [\n",
      "                u'Partido Popular',\n",
      "                u'Partido Popular',\n",
      "                u'Partido Popular',\n",
      "                u'Partido Popular',\n",
      "                u'Partido Popular',\n",
      "                u'Unió Mallorquina',\n",
      "                u'Unió Mallorquina',\n",
      "                u'Partido Popular',\n",
      "                u'Partido Popular',\n",
      "            ],\n",
      "        },\n",
      "    },\n",
      "]\n"
     ]
    }
   ],
   "source": [
    "# create json file to read in javascript\n",
    "import json\n",
    "from pprintpp import pprint as pp\n",
    "\n",
    "# write df as JSON, bring into appropriate format\n",
    "obj = {'objects': list()}\n",
    "for index, ccaa in df['Comunidad'].iteritems():\n",
    "    df_ccaa = df[df['Comunidad'] == ccaa]\n",
    "    obj['objects'].append({'circle': {\n",
    "                'coordenadas': df_ccaa.Coordenadas.values[0], \n",
    "                'comunidad': df_ccaa.Comunidad.values[0],\n",
    "                'capital': df_ccaa.Capital.values[0],\n",
    "                'caso': [value for value in df_ccaa.Caso.values],\n",
    "                'partido': [value for value in df_ccaa.Partido.values]\n",
    "            }})\n",
    "\n",
    "with open('../data/casos_comunidad.json', 'w') as data_file:    \n",
    "    json.dump(obj, data_file)\n",
    "    \n",
    "pp(obj['objects'][:1])\n"
   ]
  },
  {
   "cell_type": "code",
   "execution_count": null,
   "metadata": {
    "collapsed": true
   },
   "outputs": [],
   "source": []
  }
 ],
 "metadata": {
  "kernelspec": {
   "display_name": "Python 2",
   "language": "python",
   "name": "python2"
  },
  "language_info": {
   "codemirror_mode": {
    "name": "ipython",
    "version": 2
   },
   "file_extension": ".py",
   "mimetype": "text/x-python",
   "name": "python",
   "nbconvert_exporter": "python",
   "pygments_lexer": "ipython2",
   "version": "2.7.11"
  }
 },
 "nbformat": 4,
 "nbformat_minor": 0
}
