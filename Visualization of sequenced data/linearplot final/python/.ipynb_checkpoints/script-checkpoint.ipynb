{
 "cells": [
  {
   "cell_type": "code",
   "execution_count": 1,
   "metadata": {
    "collapsed": false
   },
   "outputs": [
    {
     "name": "stdout",
     "output_type": "stream",
     "text": [
      "[u'cs', u'length', u'depth', u'confidence', u'name']\n"
     ]
    }
   ],
   "source": [
    "import json\n",
    "\n",
    "with open('../data/results2.json') as f: \n",
    "    data = json.load(f)\n",
    "    \n",
    "#The attributes for each contig in the results are:\n",
    "#'name', 'length', 'cs', 'ucs', 'depth', 'confidence'\n",
    "\n",
    "##name is a string containing the id of the contig\n",
    "##length is an integer corresponding to the length of the contig\n",
    "##cs is the core sequences (each sequence entry have the following attributes: 'name', 'position', 'length')\n",
    "##ucs are the unique core sequences (each sequence entry have the following attributes: 'name', 'position', 'length')\n",
    "##depth is an integer corresponding to the number of kmers covering a given position in the contig\n",
    "##confidence is a computed float estimating a confidence probability for a given position in the contig\n",
    "\n",
    "print data[0].keys()"
   ]
  },
  {
   "cell_type": "markdown",
   "metadata": {},
   "source": [
    "## Create formatted data structure"
   ]
  },
  {
   "cell_type": "code",
   "execution_count": 2,
   "metadata": {
    "collapsed": false
   },
   "outputs": [
    {
     "name": "stdout",
     "output_type": "stream",
     "text": [
      "3009\n"
     ]
    }
   ],
   "source": [
    "genomesize = 6264404\n",
    "\n",
    "tot_len = 0\n",
    "for i in range(len(data)):\n",
    "    \n",
    "    try:\n",
    "        tot_len += data[i]['length']\n",
    "\n",
    "    except KeyError:\n",
    "        pass\n",
    "    \n",
    "gap_bet_contigs = (genomesize - tot_len) / len(data)\n",
    "print gap_bet_contigs"
   ]
  },
  {
   "cell_type": "code",
   "execution_count": 3,
   "metadata": {
    "collapsed": false
   },
   "outputs": [],
   "source": [
    "cs_start_pos = []\n",
    "\n",
    "for num_contig in range(len(data)):\n",
    "    \n",
    "    try:\n",
    "        \n",
    "        cont_len = data[num_contig]['length']\n",
    "        cs_tot_len = 0\n",
    "        for num_cs in range(len(data[num_contig]['cs'])):\n",
    "            cs_tot_len += data[num_contig]['cs'][num_cs]['length']\n",
    "            \n",
    "        dif = cont_len - cs_tot_len\n",
    "        cs_st = float(dif)/2\n",
    "        cs_start_pos.append(cs_st)\n",
    "    \n",
    "    except KeyError:\n",
    "        \n",
    "        cs_start_pos.append(0)"
   ]
  },
  {
   "cell_type": "code",
   "execution_count": 4,
   "metadata": {
    "collapsed": false
   },
   "outputs": [],
   "source": [
    "ref = {}\n",
    "cs = {}\n",
    "ucs = {}\n",
    "\n",
    "reference = []\n",
    "core_seq = []\n",
    "unique_core_seq = []\n",
    "\n",
    "for num_contig in range(len(data)):\n",
    "        \n",
    "    visit_flag = False\n",
    "\n",
    "    try:\n",
    "\n",
    "        ref['id'] = num_contig\n",
    "        ref['name'] = num_contig\n",
    "        ref['strand'] = -1\n",
    "\n",
    "        if num_contig == 0:\n",
    "            ref['start'] = 0 \n",
    "            ref['end'] = data[num_contig]['length']\n",
    "        else:\n",
    "            ref['start'] = ref['end'] + 1\n",
    "            ref['end'] = ref['start'] + data[num_contig]['length']\n",
    "\n",
    "        cs_tot_len = 0\n",
    "\n",
    "        for num_cs in range(len(data[num_contig]['cs'])):\n",
    "\n",
    "            cs['contig'] = num_contig\n",
    "            cs['id'] = data[num_contig]['cs'][num_cs]['name'] \n",
    "            cs['name'] = data[num_contig]['cs'][num_cs]['name']\n",
    "            cs['strand'] = -2\n",
    "\n",
    "            if num_cs == 0 and num_contig == 0:\n",
    "                cs['start'] =  0\n",
    "                cs['end'] = data[num_contig]['cs'][num_cs]['length']\n",
    "            else:\n",
    "                cs['start'] =  cs['end'] + 1\n",
    "                cs['end'] = cs['start'] + data[num_contig]['cs'][num_cs]['length']\n",
    "\n",
    "            #accumulate total cs length\n",
    "            cs_tot_len += data[num_contig]['cs'][num_cs]['length']\n",
    "\n",
    "            core_seq.append(cs.copy())\n",
    "\n",
    "            if 'ucs' in data[num_contig].keys() and visit_flag == False:\n",
    "\n",
    "                ucs_tot_len = 0\n",
    "\n",
    "                for num_ucs in range(len(data[num_contig]['ucs'])):\n",
    "\n",
    "                    ucs['contig'] = num_contig\n",
    "                    ucs['id'] = data[num_contig]['ucs'][num_ucs]['name']\n",
    "                    ucs['name'] = data[num_contig]['ucs'][num_ucs]['name']\n",
    "                    ucs['strand'] = -3\n",
    "\n",
    "                    if num_ucs == 0:\n",
    "                        ucs['start'] = cs['start']\n",
    "                        ucs['end'] = ucs['start'] + data[num_contig]['ucs'][num_ucs]['length']\n",
    "                    else:\n",
    "                        ucs['start'] = ucs['end'] + 1\n",
    "                        ucs['end'] = ucs['start'] + data[num_contig]['ucs'][num_ucs]['length']\n",
    "\n",
    "                    #accumulate total ucs length\n",
    "                    ucs_tot_len += data[num_contig]['cs'][num_cs]['length']\n",
    "\n",
    "                    unique_core_seq.append(ucs.copy())\n",
    "                ucs['end'] += (data[num_contig]['length'] - ucs_tot_len) + gap_bet_contigs  \n",
    "\n",
    "                visit_flag = True\n",
    "\n",
    "        core_seq.append(cs.copy())\n",
    "        cs['end'] += (data[num_contig]['length'] - cs_tot_len) + gap_bet_contigs \n",
    "\n",
    "        reference.append(ref.copy())\n",
    "        ref['end'] += gap_bet_contigs\n",
    "\n",
    "    except KeyError:\n",
    "\n",
    "        pass\n"
   ]
  },
  {
   "cell_type": "code",
   "execution_count": 5,
   "metadata": {
    "collapsed": false
   },
   "outputs": [],
   "source": [
    "# centering cs according to contig (recalculating start and end of each cs)\n",
    "\n",
    "for num_cs in range(len(core_seq)):\n",
    "    \n",
    "    core_seq[num_cs]['start'] =  core_seq[num_cs]['start'] + cs_start_pos[core_seq[num_cs]['contig']] \n",
    "    core_seq[num_cs]['end'] = core_seq[num_cs]['end'] + cs_start_pos[core_seq[num_cs]['contig']] \n",
    "    "
   ]
  },
  {
   "cell_type": "code",
   "execution_count": 14,
   "metadata": {
    "collapsed": true
   },
   "outputs": [],
   "source": [
    "# count num of cs and ucs per contig\n",
    "\n",
    "cs = []\n",
    "for num_contig in range(len(data)):\n",
    "    \n",
    "    try:\n",
    "        cs.append(len(data[num_contig]['cs']))\n",
    "        \n",
    "    except KeyError:\n",
    "        pass"
   ]
  },
  {
   "cell_type": "code",
   "execution_count": 7,
   "metadata": {
    "collapsed": false
   },
   "outputs": [],
   "source": [
    "track_type = ['reference', 'core_sequence', 'unique_core_sequence']\n",
    "total_tracks = [reference, core_seq, unique_core_seq]\n",
    "\n",
    "contigs = []\n",
    "\n",
    "for i in range(len(track_type)):\n",
    "    \n",
    "    contig = {}\n",
    "    \n",
    "    contig['trackName'] = track_type[i] \n",
    "    contig['trackType'] = 'stranded'\n",
    "    contig['visible'] = True\n",
    "    contig['inner_radius'] = 120\n",
    "    contig['outer_radius'] = 160\n",
    "    contig['trackFeatures'] = 'complex'\n",
    "    contig['featureThreshold'] = 7000000\n",
    "    contig['mouseclick'] = 'islandPopup'\n",
    "    contig['mouseover_callback'] = 'islandPopup'\n",
    "    contig['mouseout_callback'] = 'islandPopupClear'\n",
    "    contig['linear_mouseclick'] = 'linearPopup'\n",
    "    contig['showLabels'] = True\n",
    "    contig['showTooltip'] = True\n",
    "    contig['linear_mouseclick'] = 'linearClick'\n",
    "    contig['items'] = []\n",
    "    \n",
    "    contig['items'] = total_tracks[i]\n",
    "    \n",
    "    contigs.append(contig)\n",
    "    \n",
    "## add another reference\n",
    "contig['trackName'] = 'contig'\n",
    "contig['inner_radius'] = 30\n",
    "contig['outer_radius'] = 480\n",
    "\n",
    "contig['items'] = reference\n",
    "\n",
    "contigs.append(contig)"
   ]
  },
  {
   "cell_type": "code",
   "execution_count": 8,
   "metadata": {
    "collapsed": true
   },
   "outputs": [],
   "source": [
    "# save to file:\n",
    "with open('../data/contig.data.json', 'w') as f:\n",
    "    json.dump(contigs, f, indent=3)"
   ]
  },
  {
   "cell_type": "code",
   "execution_count": 17,
   "metadata": {
    "collapsed": false
   },
   "outputs": [
    {
     "data": {
      "text/plain": [
       "[{'end': 109335, 'id': 0, 'name': 0, 'start': 0, 'strand': -1},\n",
       " {'end': 270658, 'id': 1, 'name': 1, 'start': 112345, 'strand': -1},\n",
       " {'end': 279078, 'id': 2, 'name': 2, 'start': 273668, 'strand': -1},\n",
       " {'end': 285257, 'id': 3, 'name': 3, 'start': 282088, 'strand': -1},\n",
       " {'end': 384486, 'id': 4, 'name': 4, 'start': 288267, 'strand': -1},\n",
       " {'end': 589481, 'id': 5, 'name': 5, 'start': 387496, 'strand': -1},\n",
       " {'end': 1441503, 'id': 6, 'name': 6, 'start': 592491, 'strand': -1},\n",
       " {'end': 1446825, 'id': 7, 'name': 7, 'start': 1444513, 'strand': -1},\n",
       " {'end': 1700814, 'id': 8, 'name': 8, 'start': 1449835, 'strand': -1},\n",
       " {'end': 2079173, 'id': 9, 'name': 9, 'start': 1703824, 'strand': -1},\n",
       " {'end': 2311735, 'id': 10, 'name': 10, 'start': 2082183, 'strand': -1},\n",
       " {'end': 2522961, 'id': 12, 'name': 12, 'start': 2342489, 'strand': -1},\n",
       " {'end': 2543239, 'id': 13, 'name': 13, 'start': 2525971, 'strand': -1},\n",
       " {'end': 2613305, 'id': 15, 'name': 15, 'start': 2547283, 'strand': -1},\n",
       " {'end': 2710714, 'id': 16, 'name': 16, 'start': 2616315, 'strand': -1},\n",
       " {'end': 3118265, 'id': 17, 'name': 17, 'start': 2713724, 'strand': -1},\n",
       " {'end': 3340506, 'id': 18, 'name': 18, 'start': 3121275, 'strand': -1},\n",
       " {'end': 3386212, 'id': 19, 'name': 19, 'start': 3343516, 'strand': -1},\n",
       " {'end': 3580020, 'id': 20, 'name': 20, 'start': 3389222, 'strand': -1},\n",
       " {'end': 3585198, 'id': 21, 'name': 21, 'start': 3583030, 'strand': -1},\n",
       " {'end': 3684545, 'id': 22, 'name': 22, 'start': 3588208, 'strand': -1},\n",
       " {'end': 3690897, 'id': 23, 'name': 23, 'start': 3687555, 'strand': -1},\n",
       " {'end': 3755359, 'id': 24, 'name': 24, 'start': 3693907, 'strand': -1},\n",
       " {'end': 3936573, 'id': 25, 'name': 25, 'start': 3758369, 'strand': -1},\n",
       " {'end': 4063449, 'id': 26, 'name': 26, 'start': 3939583, 'strand': -1},\n",
       " {'end': 4342916, 'id': 27, 'name': 27, 'start': 4066459, 'strand': -1},\n",
       " {'end': 4362443, 'id': 28, 'name': 28, 'start': 4345926, 'strand': -1},\n",
       " {'end': 4426227, 'id': 29, 'name': 29, 'start': 4365453, 'strand': -1},\n",
       " {'end': 4504062, 'id': 30, 'name': 30, 'start': 4429237, 'strand': -1},\n",
       " {'end': 4516337, 'id': 31, 'name': 31, 'start': 4507072, 'strand': -1},\n",
       " {'end': 4600274, 'id': 33, 'name': 33, 'start': 4520418, 'strand': -1},\n",
       " {'end': 4673706, 'id': 34, 'name': 34, 'start': 4603284, 'strand': -1},\n",
       " {'end': 4940327, 'id': 35, 'name': 35, 'start': 4676716, 'strand': -1},\n",
       " {'end': 4944157, 'id': 36, 'name': 36, 'start': 4943337, 'strand': -1},\n",
       " {'end': 4970590, 'id': 37, 'name': 37, 'start': 4947167, 'strand': -1},\n",
       " {'end': 5018489, 'id': 38, 'name': 38, 'start': 4973600, 'strand': -1},\n",
       " {'end': 5028145, 'id': 39, 'name': 39, 'start': 5021499, 'strand': -1},\n",
       " {'end': 5040847, 'id': 40, 'name': 40, 'start': 5031155, 'strand': -1},\n",
       " {'end': 5095152, 'id': 41, 'name': 41, 'start': 5043857, 'strand': -1},\n",
       " {'end': 5127993, 'id': 42, 'name': 42, 'start': 5098162, 'strand': -1},\n",
       " {'end': 5140461, 'id': 43, 'name': 43, 'start': 5131003, 'strand': -1},\n",
       " {'end': 5170387, 'id': 44, 'name': 44, 'start': 5143471, 'strand': -1},\n",
       " {'end': 5182927, 'id': 45, 'name': 45, 'start': 5173397, 'strand': -1},\n",
       " {'end': 5199031, 'id': 46, 'name': 46, 'start': 5185937, 'strand': -1},\n",
       " {'end': 5309503, 'id': 47, 'name': 47, 'start': 5202041, 'strand': -1},\n",
       " {'end': 5314366, 'id': 48, 'name': 48, 'start': 5312513, 'strand': -1},\n",
       " {'end': 5330094, 'id': 51, 'name': 51, 'start': 5329569, 'strand': -1},\n",
       " {'end': 5361431, 'id': 54, 'name': 54, 'start': 5351335, 'strand': -1},\n",
       " {'end': 5379970, 'id': 55, 'name': 55, 'start': 5364441, 'strand': -1},\n",
       " {'end': 5424524, 'id': 56, 'name': 56, 'start': 5382980, 'strand': -1},\n",
       " {'end': 5431726, 'id': 57, 'name': 57, 'start': 5427534, 'strand': -1},\n",
       " {'end': 5435717, 'id': 58, 'name': 58, 'start': 5434736, 'strand': -1},\n",
       " {'end': 5443352, 'id': 59, 'name': 59, 'start': 5438727, 'strand': -1},\n",
       " {'end': 5487352, 'id': 60, 'name': 60, 'start': 5446362, 'strand': -1},\n",
       " {'end': 5505066, 'id': 61, 'name': 61, 'start': 5490362, 'strand': -1},\n",
       " {'end': 5527760, 'id': 63, 'name': 63, 'start': 5517810, 'strand': -1},\n",
       " {'end': 5535017, 'id': 64, 'name': 64, 'start': 5530770, 'strand': -1},\n",
       " {'end': 5553735, 'id': 67, 'name': 67, 'start': 5551677, 'strand': -1},\n",
       " {'end': 5557171, 'id': 68, 'name': 68, 'start': 5556745, 'strand': -1},\n",
       " {'end': 5560516, 'id': 69, 'name': 69, 'start': 5560181, 'strand': -1},\n",
       " {'end': 5564855, 'id': 70, 'name': 70, 'start': 5563526, 'strand': -1},\n",
       " {'end': 5607431, 'id': 71, 'name': 71, 'start': 5567865, 'strand': -1},\n",
       " {'end': 5629048, 'id': 72, 'name': 72, 'start': 5610441, 'strand': -1},\n",
       " {'end': 5633568, 'id': 73, 'name': 73, 'start': 5632058, 'strand': -1},\n",
       " {'end': 5636955, 'id': 74, 'name': 74, 'start': 5636578, 'strand': -1},\n",
       " {'end': 5640342, 'id': 75, 'name': 75, 'start': 5639965, 'strand': -1},\n",
       " {'end': 5656314, 'id': 76, 'name': 76, 'start': 5643352, 'strand': -1},\n",
       " {'end': 5676249, 'id': 77, 'name': 77, 'start': 5659324, 'strand': -1},\n",
       " {'end': 5690632, 'id': 78, 'name': 78, 'start': 5679259, 'strand': -1},\n",
       " {'end': 5701717, 'id': 79, 'name': 79, 'start': 5693642, 'strand': -1},\n",
       " {'end': 5708954, 'id': 80, 'name': 80, 'start': 5704727, 'strand': -1},\n",
       " {'end': 5714746, 'id': 81, 'name': 81, 'start': 5711964, 'strand': -1},\n",
       " {'end': 5718330, 'id': 82, 'name': 82, 'start': 5717756, 'strand': -1},\n",
       " {'end': 5722615, 'id': 83, 'name': 83, 'start': 5721340, 'strand': -1},\n",
       " {'end': 5744983, 'id': 84, 'name': 84, 'start': 5725625, 'strand': -1},\n",
       " {'end': 5749230, 'id': 85, 'name': 85, 'start': 5747993, 'strand': -1},\n",
       " {'end': 5766206, 'id': 87, 'name': 87, 'start': 5764238, 'strand': -1},\n",
       " {'end': 5772640, 'id': 91, 'name': 91, 'start': 5771981, 'strand': -1},\n",
       " {'end': 5784771, 'id': 93, 'name': 93, 'start': 5778922, 'strand': -1},\n",
       " {'end': 5788758, 'id': 94, 'name': 94, 'start': 5787781, 'strand': -1},\n",
       " {'end': 5794472, 'id': 95, 'name': 95, 'start': 5791768, 'strand': -1},\n",
       " {'end': 5797883, 'id': 96, 'name': 96, 'start': 5797482, 'strand': -1},\n",
       " {'end': 5807044, 'id': 98, 'name': 98, 'start': 5802359, 'strand': -1},\n",
       " {'end': 5813268, 'id': 99, 'name': 99, 'start': 5810054, 'strand': -1},\n",
       " {'end': 5822255, 'id': 100, 'name': 100, 'start': 5816278, 'strand': -1},\n",
       " {'end': 5826036, 'id': 101, 'name': 101, 'start': 5825265, 'strand': -1},\n",
       " {'end': 5830462, 'id': 103, 'name': 103, 'start': 5829737, 'strand': -1},\n",
       " {'end': 5840722, 'id': 106, 'name': 106, 'start': 5839107, 'strand': -1},\n",
       " {'end': 5862727, 'id': 107, 'name': 107, 'start': 5843732, 'strand': -1},\n",
       " {'end': 5870360, 'id': 108, 'name': 108, 'start': 5865737, 'strand': -1},\n",
       " {'end': 5875587, 'id': 109, 'name': 109, 'start': 5873370, 'strand': -1},\n",
       " {'end': 5899094, 'id': 116, 'name': 116, 'start': 5897030, 'strand': -1},\n",
       " {'end': 5905928, 'id': 117, 'name': 117, 'start': 5902104, 'strand': -1},\n",
       " {'end': 5914001, 'id': 120, 'name': 120, 'start': 5912849, 'strand': -1},\n",
       " {'end': 5920489, 'id': 122, 'name': 122, 'start': 5919376, 'strand': -1},\n",
       " {'end': 5924429, 'id': 123, 'name': 123, 'start': 5923499, 'strand': -1},\n",
       " {'end': 5928934, 'id': 124, 'name': 124, 'start': 5927439, 'strand': -1},\n",
       " {'end': 5945022, 'id': 131, 'name': 131, 'start': 5942870, 'strand': -1},\n",
       " {'end': 5949141, 'id': 132, 'name': 132, 'start': 5948032, 'strand': -1},\n",
       " {'end': 5952604, 'id': 133, 'name': 133, 'start': 5952151, 'strand': -1},\n",
       " {'end': 5956007, 'id': 134, 'name': 134, 'start': 5955614, 'strand': -1},\n",
       " {'end': 5961445, 'id': 137, 'name': 137, 'start': 5960668, 'strand': -1},\n",
       " {'end': 5965107, 'id': 138, 'name': 138, 'start': 5964455, 'strand': -1},\n",
       " {'end': 5976145, 'id': 144, 'name': 144, 'start': 5975486, 'strand': -1},\n",
       " {'end': 5984284, 'id': 149, 'name': 149, 'start': 5983436, 'strand': -1},\n",
       " {'end': 5991449, 'id': 154, 'name': 154, 'start': 5990967, 'strand': -1},\n",
       " {'end': 5995897, 'id': 157, 'name': 157, 'start': 5995147, 'strand': -1},\n",
       " {'end': 6000003, 'id': 159, 'name': 159, 'start': 5999512, 'strand': -1},\n",
       " {'end': 6020081, 'id': 180, 'name': 180, 'start': 6019565, 'strand': -1},\n",
       " {'end': 6024777, 'id': 183, 'name': 183, 'start': 6024433, 'strand': -1},\n",
       " {'end': 6032116, 'id': 184, 'name': 184, 'start': 6027787, 'strand': -1}]"
      ]
     },
     "execution_count": 17,
     "metadata": {},
     "output_type": "execute_result"
    }
   ],
   "source": [
    "reference"
   ]
  },
  {
   "cell_type": "code",
   "execution_count": 15,
   "metadata": {
    "collapsed": false
   },
   "outputs": [
    {
     "data": {
      "text/plain": [
       "111"
      ]
     },
     "execution_count": 15,
     "metadata": {},
     "output_type": "execute_result"
    }
   ],
   "source": [
    "len(cs)"
   ]
  },
  {
   "cell_type": "code",
   "execution_count": 16,
   "metadata": {
    "collapsed": false
   },
   "outputs": [
    {
     "data": {
      "text/plain": [
       "[1168,\n",
       " 1906,\n",
       " 7,\n",
       " 17,\n",
       " 17,\n",
       " 1666,\n",
       " 7467,\n",
       " 4,\n",
       " 3047,\n",
       " 4556,\n",
       " 2812,\n",
       " 2166,\n",
       " 18,\n",
       " 647,\n",
       " 446,\n",
       " 4434,\n",
       " 2193,\n",
       " 6,\n",
       " 2373,\n",
       " 1,\n",
       " 1399,\n",
       " 17,\n",
       " 297,\n",
       " 2422,\n",
       " 1408,\n",
       " 3329,\n",
       " 42,\n",
       " 1,\n",
       " 1018,\n",
       " 10,\n",
       " 1019,\n",
       " 682,\n",
       " 3068,\n",
       " 1,\n",
       " 13,\n",
       " 609,\n",
       " 2,\n",
       " 12,\n",
       " 1,\n",
       " 357,\n",
       " 13,\n",
       " 170,\n",
       " 1,\n",
       " 3,\n",
       " 504,\n",
       " 5,\n",
       " 7,\n",
       " 5,\n",
       " 1,\n",
       " 202,\n",
       " 1,\n",
       " 6,\n",
       " 1,\n",
       " 2,\n",
       " 9,\n",
       " 66,\n",
       " 46,\n",
       " 1,\n",
       " 2,\n",
       " 1,\n",
       " 14,\n",
       " 3,\n",
       " 220,\n",
       " 11,\n",
       " 2,\n",
       " 3,\n",
       " 15,\n",
       " 7,\n",
       " 5,\n",
       " 1,\n",
       " 1,\n",
       " 9,\n",
       " 4,\n",
       " 1,\n",
       " 1,\n",
       " 4,\n",
       " 10,\n",
       " 7,\n",
       " 55,\n",
       " 2,\n",
       " 30,\n",
       " 9,\n",
       " 7,\n",
       " 1,\n",
       " 2,\n",
       " 1,\n",
       " 1,\n",
       " 16,\n",
       " 2,\n",
       " 13,\n",
       " 19,\n",
       " 1,\n",
       " 1,\n",
       " 1,\n",
       " 13,\n",
       " 2,\n",
       " 2,\n",
       " 1,\n",
       " 11,\n",
       " 2,\n",
       " 5,\n",
       " 5,\n",
       " 2,\n",
       " 2,\n",
       " 3,\n",
       " 1,\n",
       " 1,\n",
       " 6,\n",
       " 2,\n",
       " 1,\n",
       " 28]"
      ]
     },
     "execution_count": 16,
     "metadata": {},
     "output_type": "execute_result"
    }
   ],
   "source": [
    "cs"
   ]
  },
  {
   "cell_type": "code",
   "execution_count": null,
   "metadata": {
    "collapsed": true
   },
   "outputs": [],
   "source": []
  }
 ],
 "metadata": {
  "kernelspec": {
   "display_name": "Python 2",
   "language": "python",
   "name": "python2"
  },
  "language_info": {
   "codemirror_mode": {
    "name": "ipython",
    "version": 2
   },
   "file_extension": ".py",
   "mimetype": "text/x-python",
   "name": "python",
   "nbconvert_exporter": "python",
   "pygments_lexer": "ipython2",
   "version": "2.7.11"
  }
 },
 "nbformat": 4,
 "nbformat_minor": 0
}
