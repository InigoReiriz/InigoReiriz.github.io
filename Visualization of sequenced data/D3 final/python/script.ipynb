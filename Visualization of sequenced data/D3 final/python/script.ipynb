{
 "cells": [
  {
   "cell_type": "code",
   "execution_count": 1,
   "metadata": {
    "collapsed": false
   },
   "outputs": [
    {
     "name": "stdout",
     "output_type": "stream",
     "text": [
      "[u'cs', u'length', u'depth', u'confidence', u'name']\n"
     ]
    }
   ],
   "source": [
    "import json\n",
    "\n",
    "with open('../data/results2.json') as f: \n",
    "    data = json.load(f)\n",
    "    \n",
    "#The attributes for each contig in the results are:\n",
    "#'name', 'length', 'cs', 'ucs', 'depth', 'confidence'\n",
    "\n",
    "##name is a string containing the id of the contig\n",
    "##length is an integer corresponding to the length of the contig\n",
    "##cs is the core sequences (each sequence entry have the following attributes: 'name', 'position', 'length')\n",
    "##ucs are the unique core sequences (each sequence entry have the following attributes: 'name', 'position', 'length')\n",
    "##depth is an integer corresponding to the number of kmers covering a given position in the contig\n",
    "##confidence is a computed float estimating a confidence probability for a given position in the contig\n",
    "\n",
    "print data[0].keys()"
   ]
  },
  {
   "cell_type": "markdown",
   "metadata": {},
   "source": [
    "## Create formatted data structure"
   ]
  },
  {
   "cell_type": "code",
   "execution_count": 2,
   "metadata": {
    "collapsed": false
   },
   "outputs": [
    {
     "name": "stdout",
     "output_type": "stream",
     "text": [
      "3009\n"
     ]
    }
   ],
   "source": [
    "genomesize = 6264404\n",
    "\n",
    "tot_len = 0\n",
    "for i in range(len(data)):\n",
    "    \n",
    "    try:\n",
    "        tot_len += data[i]['length']\n",
    "\n",
    "    except KeyError:\n",
    "        pass\n",
    "    \n",
    "gap_bet_contigs = (genomesize - tot_len) / len(data)\n",
    "print gap_bet_contigs"
   ]
  },
  {
   "cell_type": "code",
   "execution_count": 3,
   "metadata": {
    "collapsed": false
   },
   "outputs": [],
   "source": [
    "ref = {}\n",
    "cs = {}\n",
    "ucs = {}\n",
    "\n",
    "reference = []\n",
    "core_seq = []\n",
    "unique_core_seq = []\n",
    "\n",
    "for num_contig in range(len(data)):\n",
    "        \n",
    "    visit_flag = False\n",
    "\n",
    "    try:\n",
    "\n",
    "        ref['id'] = num_contig\n",
    "        ref['name'] = num_contig\n",
    "        ref['strand'] = -1\n",
    "\n",
    "        if num_contig == 0:\n",
    "            ref['start'] = 0 \n",
    "            ref['end'] = data[num_contig]['length']\n",
    "        else:\n",
    "            ref['start'] = ref['end'] + 1\n",
    "            ref['end'] = ref['start'] + data[num_contig]['length']\n",
    "\n",
    "        cs_tot_len = 0\n",
    "\n",
    "        for num_cs in range(len(data[num_contig]['cs'])):\n",
    "\n",
    "            cs['contig'] = num_contig\n",
    "            cs['id'] = data[num_contig]['cs'][num_cs]['name'] \n",
    "            cs['name'] = data[num_contig]['cs'][num_cs]['name']\n",
    "            cs['strand'] = -2\n",
    "\n",
    "            if num_cs == 0 and num_contig == 0:\n",
    "                cs['start'] = 0\n",
    "                cs['end'] = data[num_contig]['cs'][num_cs]['length']\n",
    "            else:\n",
    "                cs['start'] = cs['end'] + 1\n",
    "                cs['end'] = cs['start'] + data[num_contig]['cs'][num_cs]['length']\n",
    "\n",
    "            #accumulate total cs length\n",
    "            cs_tot_len += data[num_contig]['cs'][num_cs]['length']\n",
    "\n",
    "            core_seq.append(cs.copy())\n",
    "\n",
    "            if 'ucs' in data[num_contig].keys() and visit_flag == False:\n",
    "\n",
    "                ucs_tot_len = 0\n",
    "\n",
    "                for num_ucs in range(len(data[num_contig]['ucs'])):\n",
    "\n",
    "                    ucs['contig'] = num_contig\n",
    "                    ucs['id'] = data[num_contig]['ucs'][num_ucs]['name']\n",
    "                    ucs['name'] = data[num_contig]['ucs'][num_ucs]['name']\n",
    "                    ucs['strand'] = -3\n",
    "\n",
    "                    if num_ucs == 0:\n",
    "                        ucs['start'] = cs['start']\n",
    "                        ucs['end'] = ucs['start'] + data[num_contig]['ucs'][num_ucs]['length']\n",
    "                    else:\n",
    "                        ucs['start'] = ucs['end'] + 1\n",
    "                        ucs['end'] = ucs['start'] + data[num_contig]['ucs'][num_ucs]['length']\n",
    "\n",
    "                    #accumulate total ucs length\n",
    "                    ucs_tot_len += data[num_contig]['cs'][num_cs]['length']\n",
    "\n",
    "                    unique_core_seq.append(ucs.copy())\n",
    "                ucs['end'] += (data[num_contig]['length'] - ucs_tot_len) + gap_bet_contigs  \n",
    "\n",
    "                visit_flag = True\n",
    "\n",
    "        core_seq.append(cs.copy())\n",
    "        cs['end'] += (data[num_contig]['length'] - cs_tot_len) + gap_bet_contigs\n",
    "\n",
    "        reference.append(ref.copy())\n",
    "        ref['end'] += gap_bet_contigs\n",
    "\n",
    "    except KeyError:\n",
    "\n",
    "        pass\n"
   ]
  },
  {
   "cell_type": "code",
   "execution_count": 4,
   "metadata": {
    "collapsed": true
   },
   "outputs": [],
   "source": [
    "track_type = ['reference', 'core_sequence', 'unique_core_sequence']\n",
    "total_tracks = [reference, core_seq, unique_core_seq]\n",
    "\n",
    "contigs = []\n",
    "\n",
    "for i in range(len(track_type)):\n",
    "    \n",
    "    contig = {}\n",
    "    \n",
    "    contig['trackName'] = track_type[i] \n",
    "    contig['trackType'] = 'stranded'\n",
    "    contig['visible'] = True\n",
    "    contig['inner_radius'] = 120\n",
    "    contig['outer_radius'] = 160\n",
    "    contig['trackFeatures'] = 'complex'\n",
    "    contig['featureThreshold'] = 7000000\n",
    "    contig['mouseclick'] = 'islandPopup'\n",
    "    contig['mouseover_callback'] = 'islandPopup'\n",
    "    contig['mouseout_callback'] = 'islandPopupClear'\n",
    "    contig['linear_mouseclick'] = 'linearPopup'\n",
    "    contig['showLabels'] = True\n",
    "    contig['showTooltip'] = True\n",
    "    contig['linear_mouseclick'] = 'linearClick'\n",
    "    contig['items'] = []\n",
    "    \n",
    "    contig['items'] = total_tracks[i]\n",
    "    \n",
    "    contigs.append(contig)\n",
    "    "
   ]
  },
  {
   "cell_type": "code",
   "execution_count": 5,
   "metadata": {
    "collapsed": true
   },
   "outputs": [],
   "source": [
    "# save to file:\n",
    "with open('../data/contig.data.json', 'w') as f:\n",
    "    json.dump(contigs, f, indent=3)"
   ]
  },
  {
   "cell_type": "code",
   "execution_count": null,
   "metadata": {
    "collapsed": true
   },
   "outputs": [],
   "source": []
  }
 ],
 "metadata": {
  "kernelspec": {
   "display_name": "Python 2",
   "language": "python",
   "name": "python2"
  },
  "language_info": {
   "codemirror_mode": {
    "name": "ipython",
    "version": 2
   },
   "file_extension": ".py",
   "mimetype": "text/x-python",
   "name": "python",
   "nbconvert_exporter": "python",
   "pygments_lexer": "ipython2",
   "version": "2.7.11"
  }
 },
 "nbformat": 4,
 "nbformat_minor": 0
}
