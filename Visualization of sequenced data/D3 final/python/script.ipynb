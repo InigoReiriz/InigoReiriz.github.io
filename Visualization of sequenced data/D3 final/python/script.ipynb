{
 "cells": [
  {
   "cell_type": "code",
   "execution_count": 1,
   "metadata": {
    "collapsed": false
   },
   "outputs": [
    {
     "name": "stdout",
     "output_type": "stream",
     "text": [
      "[u'cs', u'length', u'depth', u'confidence', u'name']\n"
     ]
    }
   ],
   "source": [
    "import json\n",
    "\n",
    "with open('../data/results2.json') as f: \n",
    "    data = json.load(f)\n",
    "    \n",
    "#The attributes for each contig in the results are:\n",
    "#'name', 'length', 'cs', 'ucs', 'depth', 'confidence'\n",
    "\n",
    "##name is a string containing the id of the contig\n",
    "##length is an integer corresponding to the length of the contig\n",
    "##cs is the core sequences (each sequence entry have the following attributes: 'name', 'position', 'length')\n",
    "##ucs are the unique core sequences (each sequence entry have the following attributes: 'name', 'position', 'length')\n",
    "##depth is an integer corresponding to the number of kmers covering a given position in the contig\n",
    "##confidence is a computed float estimating a confidence probability for a given position in the contig\n",
    "\n",
    "print data[0].keys()"
   ]
  },
  {
   "cell_type": "code",
   "execution_count": 2,
   "metadata": {
    "collapsed": false
   },
   "outputs": [
    {
     "data": {
      "text/plain": [
       "[{u'length': 632, u'name': 0, u'position': None},\n",
       " {u'length': 589, u'name': 1, u'position': None},\n",
       " {u'length': 489, u'name': 2, u'position': None},\n",
       " {u'length': 463, u'name': 3, u'position': None},\n",
       " {u'length': 354, u'name': 4, u'position': None}]"
      ]
     },
     "execution_count": 2,
     "metadata": {},
     "output_type": "execute_result"
    }
   ],
   "source": [
    "data[0]['cs'][0:5]"
   ]
  },
  {
   "cell_type": "code",
   "execution_count": 3,
   "metadata": {
    "collapsed": false
   },
   "outputs": [
    {
     "data": {
      "text/plain": [
       "[{u'length': 608, u'name': 0, u'position': None},\n",
       " {u'length': 441, u'name': 1, u'position': None},\n",
       " {u'length': 417, u'name': 2, u'position': None},\n",
       " {u'length': 390, u'name': 3, u'position': None},\n",
       " {u'length': 363, u'name': 4, u'position': None}]"
      ]
     },
     "execution_count": 3,
     "metadata": {},
     "output_type": "execute_result"
    }
   ],
   "source": [
    "data[1]['cs'][0:5]"
   ]
  },
  {
   "cell_type": "code",
   "execution_count": 4,
   "metadata": {
    "collapsed": false,
    "scrolled": true
   },
   "outputs": [
    {
     "name": "stdout",
     "output_type": "stream",
     "text": [
      "2958091\n",
      "5701668\n"
     ]
    }
   ],
   "source": [
    "#Check if sum of lengths of each cs is equal to total length\n",
    "total_len = 0\n",
    "\n",
    "for i in range(len(data)):\n",
    "    \n",
    "    try:\n",
    "        for j in range(len(data[i]['cs'])):\n",
    "            total_len += data[i]['cs'][j]['length'] \n",
    "            \n",
    "    except KeyError:\n",
    "                total_len += 0\n",
    "    \n",
    "print total_len\n",
    "\n",
    "tot_len = 0\n",
    "for i in range(len(data)):\n",
    "    \n",
    "    try:\n",
    "        tot_len += data[i]['length']\n",
    "        \n",
    "    except KeyError:\n",
    "        tot_len += 0\n",
    "        \n",
    "print tot_len"
   ]
  },
  {
   "cell_type": "markdown",
   "metadata": {},
   "source": [
    "## Create formatted file "
   ]
  },
  {
   "cell_type": "code",
   "execution_count": 5,
   "metadata": {
    "collapsed": false
   },
   "outputs": [
    {
     "name": "stdout",
     "output_type": "stream",
     "text": [
      "[{'featureThreshold': 7000000,\n",
      "  'inner_radius': 80,\n",
      "  'items': [{'end': 632, 'id': 0, 'start': 0, 'strand': -1},\n",
      "            {'end': 1222, 'id': 1, 'start': 633, 'strand': -1},\n",
      "            {'end': 1712, 'id': 2, 'start': 1223, 'strand': -1},\n",
      "            {'end': 2176, 'id': 3, 'start': 1713, 'strand': -1}],\n",
      "  'linear_mouseclick': 'linearClick',\n",
      "  'mouseclick': 'islandPopup',\n",
      "  'mouseout_callback': 'islandPopupClear',\n",
      "  'mouseover_callback': 'islandPopup',\n",
      "  'outer_radius': 120,\n",
      "  'showLabels': True,\n",
      "  'showTooltip': True,\n",
      "  'trackFeatures': 'complex',\n",
      "  'trackName': 'track1',\n",
      "  'trackType': 'stranded',\n",
      "  'visible': True}]\n"
     ]
    }
   ],
   "source": [
    "import pprint\n",
    "\n",
    "tracks = []\n",
    "track = {}\n",
    "track['trackName'] = 'track1'\n",
    "track['trackType'] = 'stranded'\n",
    "track['visible'] = True\n",
    "track['inner_radius'] = 80 \n",
    "track['outer_radius'] = 120\n",
    "track['trackFeatures'] = 'complex'\n",
    "track['featureThreshold'] = 7000000\n",
    "track['mouseclick'] = 'islandPopup'\n",
    "track['mouseover_callback'] = 'islandPopup'\n",
    "track['mouseout_callback'] = 'islandPopupClear'\n",
    "track['linear_mouseclick'] = 'linearPopup'\n",
    "track['showLabels'] = True\n",
    "track['showTooltip'] = True\n",
    "track['linear_mouseclick'] = 'linearClick'\n",
    "track['items'] = []\n",
    "\n",
    "cs = {}\n",
    "\n",
    "for ind in range(len(data[0]['cs'])):\n",
    "    \n",
    "    if ind < 4:\n",
    "        cs['id'] = data[0]['cs'][ind]['name'] \n",
    "        cs['strand'] = -1\n",
    "\n",
    "        if ind == 0:\n",
    "            cs['start'] = 0\n",
    "            cs['end'] = data[0]['cs'][0]['length']\n",
    "        else:\n",
    "            cs['start'] = cs['end'] + 1\n",
    "            cs['end'] = cs['start'] + data[0]['cs'][ind]['length']\n",
    "\n",
    "        track['items'].append(cs.copy())\n",
    "\n",
    "tracks.append(track)\n",
    "pprint.pprint(tracks)"
   ]
  },
  {
   "cell_type": "code",
   "execution_count": null,
   "metadata": {
    "collapsed": true
   },
   "outputs": [],
   "source": []
  }
 ],
 "metadata": {
  "kernelspec": {
   "display_name": "Python 2",
   "language": "python",
   "name": "python2"
  },
  "language_info": {
   "codemirror_mode": {
    "name": "ipython",
    "version": 2
   },
   "file_extension": ".py",
   "mimetype": "text/x-python",
   "name": "python",
   "nbconvert_exporter": "python",
   "pygments_lexer": "ipython2",
   "version": "2.7.11"
  }
 },
 "nbformat": 4,
 "nbformat_minor": 0
}
