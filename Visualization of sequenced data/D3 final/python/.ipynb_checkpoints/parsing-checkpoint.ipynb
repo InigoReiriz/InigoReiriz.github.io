{
 "cells": [
  {
   "cell_type": "code",
   "execution_count": 1,
   "metadata": {
    "collapsed": false
   },
   "outputs": [],
   "source": [
    "import json\n",
    "\n",
    "with open('../data/results.json') as f: \n",
    "    data = json.load(f)"
   ]
  },
  {
   "cell_type": "code",
   "execution_count": 2,
   "metadata": {
    "collapsed": false
   },
   "outputs": [],
   "source": [
    "genomesize = 6264404\n",
    "\n",
    "tot_len = 0\n",
    "for i in range(len(data['data'])):\n",
    "    \n",
    "    tot_len += data['data'][i]['attributes']['length']\n",
    "    \n",
    "gap_bet_contigs = (genomesize - tot_len) / len(data['data'])"
   ]
  },
  {
   "cell_type": "code",
   "execution_count": 3,
   "metadata": {
    "collapsed": false
   },
   "outputs": [],
   "source": [
    "def parse_ref():\n",
    "    \n",
    "    parsed_reference = []\n",
    "    ref = {}\n",
    "    \n",
    "    for num_contig in range(len(data['data'])):\n",
    "        \n",
    "        ref['name'] = data['data'][num_contig]['attributes']['name']\n",
    "        ref['strand'] = -1\n",
    "        \n",
    "        if num_contig == 0:\n",
    "        \n",
    "            ref['start'] = 0 \n",
    "            ref['end'] = data['data'][num_contig]['attributes']['length']\n",
    "            \n",
    "        else:\n",
    "            \n",
    "            ref['start'] = ref['end'] + 1\n",
    "            ref['end'] = ref['start'] + data['data'][num_contig]['attributes']['length']\n",
    "            \n",
    "        parsed_reference.append(ref.copy())\n",
    "        ref['end'] += gap_bet_contigs \n",
    "        \n",
    "    return parsed_reference\n",
    "        \n",
    "parsed_reference = parse_ref()\n"
   ]
  },
  {
   "cell_type": "code",
   "execution_count": 4,
   "metadata": {
    "collapsed": false
   },
   "outputs": [],
   "source": [
    "def parse_lane(parsed_reference, lanetype, strand):\n",
    "    \n",
    "    parsed_lane = []\n",
    "    lane = {}\n",
    "        \n",
    "    for num_contig in range(len(data['data'])):\n",
    "        \n",
    "        contig_start_point = parsed_reference[num_contig]['start']\n",
    "        \n",
    "        try: #there might be no cs inside the contig\n",
    "\n",
    "            for num_cs in range(len(data['data'][num_contig]['lanes'][lanetype])):\n",
    "                                \n",
    "                lane['name'] = num_cs\n",
    "                lane['strand'] = strand\n",
    "                lane['start'] = contig_start_point + data['data'][num_contig]['lanes'][lanetype][num_cs]['position'] \n",
    "                lane['end'] = lane['start'] + data['data'][num_contig]['lanes'][lanetype][num_cs]['length']\n",
    "\n",
    "                parsed_lane.append(lane.copy())\n",
    "            \n",
    "        except KeyError:\n",
    "            pass\n",
    "        \n",
    "    return parsed_lane\n",
    "\n",
    "parsed_cs = parse_lane(parsed_reference, 'cs', strand = -2)\n",
    "parsed_ucs = parse_lane(parsed_reference, 'ucs', strand = -3)"
   ]
  },
  {
   "cell_type": "code",
   "execution_count": 5,
   "metadata": {
    "collapsed": false
   },
   "outputs": [],
   "source": [
    "def parse_ucs(parsed_reference):\n",
    "    \n",
    "    parsed_ucs = []\n",
    "    ucs = {}\n",
    "    \n",
    "    for num_contig in range(len(data['data'])):\n",
    "        \n",
    "        contig_start_point = parsed_reference[num_contig]['start']\n",
    "        \n",
    "        try:\n",
    "            \n",
    "            for num_ucs in range(len(data['data'][num_contig]['lanes']['ucs'])):\n",
    "                \n",
    "                ucs['name'] = num_ucs\n",
    "                ucs['strand'] = -3\n",
    "                ucs['start'] = contig_start_point + data['data'][num_contig]['lanes']['ucs'][num_ucs]['position']\n",
    "                ucs['end'] = ucs['start'] + data['data'][num_contig]['lanes']['ucs'][num_ucs]['length']\n",
    "                 \n",
    "                parsed_ucs.append(ucs.copy())\n",
    "\n",
    "        except KeyError:\n",
    "            pass\n",
    "        \n",
    "    return parsed_ucs\n",
    "        \n",
    "parsed_ucs = parse_ucs(parsed_reference)\n"
   ]
  },
  {
   "cell_type": "code",
   "execution_count": 6,
   "metadata": {
    "collapsed": false
   },
   "outputs": [],
   "source": [
    "lane_names = ['reference', 'cs', 'ucs']\n",
    "lanes = [parsed_reference, parsed_cs, parsed_ucs]\n",
    "\n",
    "contigs = []\n",
    "\n",
    "for num_lane in range(len(lanes)):\n",
    "        \n",
    "    contig = {}\n",
    "\n",
    "    contig['trackName'] = lane_names[num_lane]\n",
    "    contig['trackType'] = 'stranded'\n",
    "    contig['visible'] = True\n",
    "    contig['inner_radius'] = 120\n",
    "    contig['outer_radius'] = 160\n",
    "    contig['trackFeatures'] = 'complex'\n",
    "    contig['featureThreshold'] = 7000000\n",
    "    contig['mouseclick'] = 'islandPopup'\n",
    "    contig['mouseover_callback'] = 'islandPopup'\n",
    "    contig['mouseout_callback'] = 'islandPopupClear'\n",
    "    contig['linear_mouseclick'] = 'linearPopup'\n",
    "    contig['showLabels'] = True\n",
    "    contig['showTooltip'] = True\n",
    "    contig['linear_mouseclick'] = 'linearClick'\n",
    "    contig['items'] = []\n",
    "\n",
    "    contig['items'] = lanes[num_lane]\n",
    "\n",
    "    contigs.append(contig.copy())\n",
    "    \n",
    "## add another reference\n",
    "contig['trackName'] = 'contig'\n",
    "contig['inner_radius'] = 30\n",
    "contig['outer_radius'] = 480\n",
    "\n",
    "contig['items'] = parsed_reference\n",
    "\n",
    "contigs.append(contig.copy())"
   ]
  },
  {
   "cell_type": "code",
   "execution_count": 7,
   "metadata": {
    "collapsed": false
   },
   "outputs": [],
   "source": [
    "# save to file:\n",
    "with open('../data/contig.data.json', 'w') as f:\n",
    "    json.dump(contigs, f, indent=3)"
   ]
  },
  {
   "cell_type": "code",
   "execution_count": null,
   "metadata": {
    "collapsed": true
   },
   "outputs": [],
   "source": []
  }
 ],
 "metadata": {
  "kernelspec": {
   "display_name": "Python 2",
   "language": "python",
   "name": "python2"
  },
  "language_info": {
   "codemirror_mode": {
    "name": "ipython",
    "version": 2
   },
   "file_extension": ".py",
   "mimetype": "text/x-python",
   "name": "python",
   "nbconvert_exporter": "python",
   "pygments_lexer": "ipython2",
   "version": "2.7.11"
  }
 },
 "nbformat": 4,
 "nbformat_minor": 0
}
