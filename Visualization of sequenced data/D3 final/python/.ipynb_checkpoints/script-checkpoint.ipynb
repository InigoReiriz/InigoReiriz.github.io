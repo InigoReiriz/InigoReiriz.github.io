{
 "cells": [
  {
   "cell_type": "code",
   "execution_count": 1,
   "metadata": {
    "collapsed": false
   },
   "outputs": [
    {
     "name": "stdout",
     "output_type": "stream",
     "text": [
      "[u'cs', u'length', u'depth', u'confidence', u'name']\n"
     ]
    }
   ],
   "source": [
    "import json\n",
    "\n",
    "with open('../data/results2.json') as f: \n",
    "    data = json.load(f)\n",
    "    \n",
    "#The attributes for each contig in the results are:\n",
    "#'name', 'length', 'cs', 'ucs', 'depth', 'confidence'\n",
    "\n",
    "##name is a string containing the id of the contig\n",
    "##length is an integer corresponding to the length of the contig\n",
    "##cs is the core sequences (each sequence entry have the following attributes: 'name', 'position', 'length')\n",
    "##ucs are the unique core sequences (each sequence entry have the following attributes: 'name', 'position', 'length')\n",
    "##depth is an integer corresponding to the number of kmers covering a given position in the contig\n",
    "##confidence is a computed float estimating a confidence probability for a given position in the contig\n",
    "\n",
    "print data[0].keys()"
   ]
  },
  {
   "cell_type": "markdown",
   "metadata": {},
   "source": [
    "## Create formatted data structure"
   ]
  },
  {
   "cell_type": "code",
   "execution_count": 3,
   "metadata": {
    "collapsed": false
   },
   "outputs": [
    {
     "name": "stdout",
     "output_type": "stream",
     "text": [
      "11\n"
     ]
    },
    {
     "ename": "IndexError",
     "evalue": "list index out of range",
     "output_type": "error",
     "traceback": [
      "\u001b[1;31m---------------------------------------------------------------------------\u001b[0m",
      "\u001b[1;31mIndexError\u001b[0m                                Traceback (most recent call last)",
      "\u001b[1;32m<ipython-input-3-2063ec62774a>\u001b[0m in \u001b[0;36m<module>\u001b[1;34m()\u001b[0m\n\u001b[0;32m     66\u001b[0m         \u001b[0mgap\u001b[0m \u001b[1;33m=\u001b[0m \u001b[1;33m{\u001b[0m\u001b[1;33m}\u001b[0m\u001b[1;33m\u001b[0m\u001b[0m\n\u001b[0;32m     67\u001b[0m         \u001b[0mgap\u001b[0m\u001b[1;33m[\u001b[0m\u001b[1;34m'id'\u001b[0m\u001b[1;33m]\u001b[0m \u001b[1;33m=\u001b[0m \u001b[0mi\u001b[0m \u001b[1;33m+\u001b[0m \u001b[1;36m1\u001b[0m\u001b[1;33m\u001b[0m\u001b[0m\n\u001b[1;32m---> 68\u001b[1;33m         \u001b[0mgap\u001b[0m\u001b[1;33m[\u001b[0m\u001b[1;34m'start'\u001b[0m\u001b[1;33m]\u001b[0m \u001b[1;33m=\u001b[0m \u001b[0mcontig\u001b[0m\u001b[1;33m[\u001b[0m\u001b[1;34m'items'\u001b[0m\u001b[1;33m]\u001b[0m\u001b[1;33m[\u001b[0m\u001b[1;36m0\u001b[0m\u001b[1;33m]\u001b[0m\u001b[1;33m[\u001b[0m\u001b[1;34m'start'\u001b[0m\u001b[1;33m]\u001b[0m\u001b[1;33m\u001b[0m\u001b[0m\n\u001b[0m\u001b[0;32m     69\u001b[0m         \u001b[0mgap\u001b[0m\u001b[1;33m[\u001b[0m\u001b[1;34m'end'\u001b[0m\u001b[1;33m]\u001b[0m \u001b[1;33m=\u001b[0m \u001b[0mcontig\u001b[0m\u001b[1;33m[\u001b[0m\u001b[1;34m'items'\u001b[0m\u001b[1;33m]\u001b[0m\u001b[1;33m[\u001b[0m\u001b[1;33m-\u001b[0m\u001b[1;36m1\u001b[0m\u001b[1;33m]\u001b[0m\u001b[1;33m[\u001b[0m\u001b[1;34m'end'\u001b[0m\u001b[1;33m]\u001b[0m\u001b[1;33m\u001b[0m\u001b[0m\n\u001b[0;32m     70\u001b[0m         \u001b[0mgap\u001b[0m\u001b[1;33m[\u001b[0m\u001b[1;34m'name'\u001b[0m\u001b[1;33m]\u001b[0m \u001b[1;33m=\u001b[0m \u001b[1;34m'contig_gap_'\u001b[0m \u001b[1;33m+\u001b[0m \u001b[0mstr\u001b[0m\u001b[1;33m(\u001b[0m\u001b[0mi\u001b[0m\u001b[1;33m+\u001b[0m\u001b[1;36m1\u001b[0m\u001b[1;33m)\u001b[0m\u001b[1;33m\u001b[0m\u001b[0m\n",
      "\u001b[1;31mIndexError\u001b[0m: list index out of range"
     ]
    }
   ],
   "source": [
    "import pprint\n",
    "\n",
    "contigs = []\n",
    "cs = {}\n",
    "\n",
    "for num_contig in range(len(data)):\n",
    "\n",
    "    contig = {}\n",
    "\n",
    "    contig['trackName'] = 'Contig ' + str(num_contig) \n",
    "    contig['trackType'] = 'stranded'\n",
    "    contig['visible'] = True\n",
    "    contig['inner_radius'] = 80 \n",
    "    contig['outer_radius'] = 120\n",
    "    contig['trackFeatures'] = 'complex'\n",
    "    contig['featureThreshold'] = 7000000\n",
    "    contig['mouseclick'] = 'islandPopup'\n",
    "    contig['mouseover_callback'] = 'islandPopup'\n",
    "    contig['mouseout_callback'] = 'islandPopupClear'\n",
    "    contig['linear_mouseclick'] = 'linearPopup'\n",
    "    contig['showLabels'] = True\n",
    "    contig['showTooltip'] = True\n",
    "    contig['linear_mouseclick'] = 'linearClick'\n",
    "    contig['items'] = []\n",
    "    \n",
    "    if num_contig != 0:\n",
    "        # add a gap of 100 bases from one contig to the other\n",
    "        cs['end'] += 100 \n",
    "    \n",
    "    try:\n",
    "        \n",
    "        for num_cs in range(len(data[num_contig]['cs'])):\n",
    "\n",
    "            cs['id'] = data[num_contig]['cs'][num_cs]['name'] \n",
    "            cs['strand'] = -1\n",
    "\n",
    "            if num_cs == 0 and num_contig == 0:\n",
    "                cs['start'] = 0\n",
    "                cs['end'] = data[num_contig]['cs'][num_cs]['length']\n",
    "            else:\n",
    "                cs['start'] = cs['end'] + 1\n",
    "                cs['end'] = cs['start'] + data[num_contig]['cs'][num_cs]['length']\n",
    "\n",
    "            contig['items'].append(cs.copy())\n",
    "            \n",
    "    except KeyError:\n",
    "        \n",
    "        pass\n",
    "    \n",
    "    contigs.append(contig)\n",
    "    \n",
    "gaptrack = {}\n",
    "\n",
    "gaptrack['trackName'] = 'gapTrack'\n",
    "gaptrack['trackType']= 'gap'\n",
    "gaptrack['inner radius'] = 25\n",
    "gaptrack['outer radius'] = 235\n",
    "gaptrack['showTooltip'] = True\n",
    "gaptrack['items'] = []\n",
    "\n",
    "for i,contig in enumerate(contigs):\n",
    "    \n",
    "    if len(contig['items']):\n",
    "    \n",
    "        gap = {}\n",
    "        gap['id'] = i + 1\n",
    "        gap['start'] = contig['items'][0]['start']\n",
    "        gap['end'] = contig['items'][-1]['end']\n",
    "        gap['name'] = 'contig_gap_' + str(i+1)\n",
    "\n",
    "        gaptrack['items'].append(gap)\n",
    "\n",
    "contigs.append(gaptrack)\n",
    "    \n",
    "pprint.pprint(contigs[0]['items'][-10:])\n",
    "print \"@@@@@@\"\n",
    "pprint.pprint(contigs[1]['items'][0:10])"
   ]
  },
  {
   "cell_type": "markdown",
   "metadata": {},
   "source": [
    "## Write data structure to a file"
   ]
  },
  {
   "cell_type": "code",
   "execution_count": null,
   "metadata": {
    "collapsed": true
   },
   "outputs": [],
   "source": [
    "# save to file:\n",
    "with open('../data/Contigs.json', 'w') as f:\n",
    "    json.dump(contigs, f)\n",
    "\n",
    "# load from file:\n",
    "with open('../data/Contigs.json', 'r') as f:\n",
    "    try:\n",
    "        contigs = json.load(f)\n",
    "    # if the file is empty the ValueError will be thrown\n",
    "    except ValueError:\n",
    "        contigs = {}"
   ]
  },
  {
   "cell_type": "code",
   "execution_count": null,
   "metadata": {
    "collapsed": true
   },
   "outputs": [],
   "source": []
  }
 ],
 "metadata": {
  "kernelspec": {
   "display_name": "Python 2",
   "language": "python",
   "name": "python2"
  },
  "language_info": {
   "codemirror_mode": {
    "name": "ipython",
    "version": 2
   },
   "file_extension": ".py",
   "mimetype": "text/x-python",
   "name": "python",
   "nbconvert_exporter": "python",
   "pygments_lexer": "ipython2",
   "version": "2.7.11"
  }
 },
 "nbformat": 4,
 "nbformat_minor": 0
}
