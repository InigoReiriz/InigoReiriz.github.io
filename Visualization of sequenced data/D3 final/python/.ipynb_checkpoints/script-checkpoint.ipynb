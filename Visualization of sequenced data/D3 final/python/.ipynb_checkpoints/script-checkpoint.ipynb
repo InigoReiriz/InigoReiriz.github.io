{
 "cells": [
  {
   "cell_type": "code",
   "execution_count": 1,
   "metadata": {
    "collapsed": false
   },
   "outputs": [
    {
     "name": "stdout",
     "output_type": "stream",
     "text": [
      "[u'cs', u'length', u'depth', u'confidence', u'name']\n"
     ]
    }
   ],
   "source": [
    "import json\n",
    "\n",
    "with open('../data/results2.json') as f: \n",
    "    data = json.load(f)\n",
    "    \n",
    "#The attributes for each contig in the results are:\n",
    "#'name', 'length', 'cs', 'ucs', 'depth', 'confidence'\n",
    "\n",
    "##name is a string containing the id of the contig\n",
    "##length is an integer corresponding to the length of the contig\n",
    "##cs is the core sequences (each sequence entry have the following attributes: 'name', 'position', 'length')\n",
    "##ucs are the unique core sequences (each sequence entry have the following attributes: 'name', 'position', 'length')\n",
    "##depth is an integer corresponding to the number of kmers covering a given position in the contig\n",
    "##confidence is a computed float estimating a confidence probability for a given position in the contig\n",
    "\n",
    "print data[0].keys()"
   ]
  },
  {
   "cell_type": "markdown",
   "metadata": {},
   "source": [
    "## Create formatted data structure"
   ]
  },
  {
   "cell_type": "code",
   "execution_count": 2,
   "metadata": {
    "collapsed": false
   },
   "outputs": [],
   "source": [
    "import pprint\n",
    "\n",
    "contigs = []\n",
    "ref = {}\n",
    "cs = {}\n",
    "ucs = {}\n",
    "\n",
    "for num_contig in range(len(data)):\n",
    "    \n",
    "    visit_flag = False\n",
    "    \n",
    "    contig = {}\n",
    "\n",
    "    contig['trackName'] = 'Contig' #+ str(num_contig) \n",
    "    contig['trackType'] = 'stranded'\n",
    "    contig['visible'] = True\n",
    "    contig['inner_radius'] = 80 \n",
    "    contig['outer_radius'] = 120\n",
    "    contig['trackFeatures'] = 'complex'\n",
    "    contig['featureThreshold'] = 7000000\n",
    "    contig['mouseclick'] = 'islandPopup'\n",
    "    contig['mouseover_callback'] = 'islandPopup'\n",
    "    contig['mouseout_callback'] = 'islandPopupClear'\n",
    "    contig['linear_mouseclick'] = 'linearPopup'\n",
    "    contig['showLabels'] = True\n",
    "    contig['showTooltip'] = True\n",
    "    contig['linear_mouseclick'] = 'linearClick'\n",
    "    contig['items'] = []\n",
    "\n",
    "    if num_contig != 0:\n",
    "        # add a gap of 1000 bases from one contig to the other\n",
    "        cs['end'] += 30000 \n",
    "        ref['end'] += 30000\n",
    "\n",
    "    try:\n",
    "        \n",
    "        ref['id'] = num_contig\n",
    "        ref['name'] = num_contig\n",
    "        ref['strand'] = -1\n",
    "        \n",
    "        if num_contig == 0:\n",
    "            ref['start'] = 0 \n",
    "            ref['end'] = data[num_contig]['length']\n",
    "        else:\n",
    "            ref['start'] = ref['end'] + 1\n",
    "            ref['end'] = ref['start'] + data[num_contig]['length']\n",
    "            \n",
    "        contig['items'].append(ref.copy())\n",
    "        \n",
    "        for num_cs in range(len(data[num_contig]['cs'])):\n",
    "                \n",
    "            cs['id'] = data[num_contig]['cs'][num_cs]['name'] \n",
    "            cs['name'] = data[num_contig]['cs'][num_cs]['name']\n",
    "            cs['strand'] = -2\n",
    "\n",
    "            if num_cs == 0 and num_contig == 0:\n",
    "                cs['start'] = 0\n",
    "                cs['end'] = data[num_contig]['cs'][num_cs]['length']\n",
    "            else:\n",
    "                cs['start'] = cs['end'] + 1\n",
    "                cs['end'] = cs['start'] + data[num_contig]['cs'][num_cs]['length']\n",
    "\n",
    "            contig['items'].append(cs.copy())\n",
    "            \n",
    "            if 'ucs' in data[num_contig].keys() and visit_flag == False:\n",
    "            \n",
    "                for num_ucs in range(len(data[num_contig]['ucs'])):\n",
    "\n",
    "                    ucs['id'] = data[num_contig]['ucs'][num_ucs]['name']\n",
    "                    ucs['name'] = data[num_contig]['ucs'][num_ucs]['name']\n",
    "                    ucs['strand'] = -3\n",
    "                \n",
    "                    if num_ucs == 0:\n",
    "                        ucs['start'] = cs['start']\n",
    "                        ucs['end'] = ucs['start'] + data[num_contig]['ucs'][num_ucs]['length']\n",
    "                    else:\n",
    "                        ucs['start'] = ucs['end'] + 1\n",
    "                        ucs['end'] = ucs['start'] + data[num_contig]['ucs'][num_ucs]['length']\n",
    "                \n",
    "                    contig['items'].append(ucs.copy())\n",
    "                    \n",
    "                visit_flag = True\n",
    "             \n",
    "\n",
    "    except KeyError:\n",
    "\n",
    "        pass\n",
    "\n",
    "    contigs.append(contig)\n",
    "    \n",
    "gaptrack = {}\n",
    "\n",
    "gaptrack['trackName'] = 'gapTrack'\n",
    "gaptrack['trackType']= 'gap'\n",
    "gaptrack['inner_radius'] = 25\n",
    "gaptrack['outer_radius'] = 235\n",
    "gaptrack['showTooltip'] = True\n",
    "gaptrack['items'] = []\n",
    "\n",
    "for i,contig in enumerate(contigs):\n",
    "    \n",
    "    if len(contig['items']):\n",
    "    \n",
    "        gap = {}\n",
    "        gap['id'] = i + 1\n",
    "        gap['start'] = contig['items'][0]['start']\n",
    "        gap['end'] = contig['items'][-1]['end']\n",
    "        gap['name'] = 'contig_gap_' + str(i+1)\n",
    "\n",
    "        gaptrack['items'].append(gap)\n",
    "\n",
    "#contigs.append(gaptrack)\n",
    "    "
   ]
  },
  {
   "cell_type": "markdown",
   "metadata": {},
   "source": [
    "## Write data structure to a file"
   ]
  },
  {
   "cell_type": "code",
   "execution_count": 3,
   "metadata": {
    "collapsed": false
   },
   "outputs": [],
   "source": [
    "# save to file:\n",
    "with open('../data/contig.data.json', 'w') as f:\n",
    "    json.dump(contigs, f, indent=3)\n",
    "    "
   ]
  },
  {
   "cell_type": "code",
   "execution_count": null,
   "metadata": {
    "collapsed": true
   },
   "outputs": [],
   "source": []
  }
 ],
 "metadata": {
  "kernelspec": {
   "display_name": "Python 2",
   "language": "python",
   "name": "python2"
  },
  "language_info": {
   "codemirror_mode": {
    "name": "ipython",
    "version": 2
   },
   "file_extension": ".py",
   "mimetype": "text/x-python",
   "name": "python",
   "nbconvert_exporter": "python",
   "pygments_lexer": "ipython2",
   "version": "2.7.11"
  }
 },
 "nbformat": 4,
 "nbformat_minor": 0
}
