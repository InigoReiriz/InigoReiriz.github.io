{
 "cells": [
  {
   "cell_type": "markdown",
   "metadata": {},
   "source": [
    "# Extracting data for displaying it with D3"
   ]
  },
  {
   "cell_type": "markdown",
   "metadata": {},
   "source": [
    "### Exercise 1"
   ]
  },
  {
   "cell_type": "code",
   "execution_count": 1,
   "metadata": {
    "collapsed": false
   },
   "outputs": [],
   "source": [
    "import pandas as pd\n",
    "\n",
    "filename = \"SFPD_Incidents_-_from_1_January_2003.csv\"\n",
    "\n",
    "def readfile(filename):\n",
    "    \n",
    "    data = pd.read_csv(filename)\n",
    "    return data\n",
    "\n",
    "data = readfile(filename)"
   ]
  },
  {
   "cell_type": "code",
   "execution_count": 2,
   "metadata": {
    "collapsed": true
   },
   "outputs": [],
   "source": [
    "#extract year from date column in the CSV file and only keep them from 2003 to 2015 (full years in the database)\n",
    "def filteryears(dataset):\n",
    "    \n",
    "    #Create a new column with the extracted years from the date column in the CSV file\n",
    "    dataset['Year'] = [int(date.split(\"/\")[-1]) for date in dataset['Date']]\n",
    "    #filter the dataset. Just keep the rows that do not belong to year 2016.\n",
    "    dataset = dataset[dataset['Year'] != 2016]\n",
    "\n",
    "    return dataset\n",
    "\n",
    "data = filteryears(data)"
   ]
  },
  {
   "cell_type": "code",
   "execution_count": 3,
   "metadata": {
    "collapsed": false
   },
   "outputs": [
    {
     "data": {
      "text/plain": [
       "[2003, 2015]"
      ]
     },
     "execution_count": 3,
     "metadata": {},
     "output_type": "execute_result"
    }
   ],
   "source": [
    "years=list(set(data['Year']))\n",
    "years = [years[0], years[-1]]\n",
    "years"
   ]
  },
  {
   "cell_type": "code",
   "execution_count": 4,
   "metadata": {
    "collapsed": false
   },
   "outputs": [],
   "source": [
    "#each point should correspond to a district\n",
    "\n",
    "#x axis should correspond to the total number of prostitution incidents.\n",
    "data_pros = data[data['Category'] == 'PROSTITUTION']\n",
    "districts = list(data_pros['PdDistrict'])\n",
    "un_districts = list(set(districts))\n",
    "\n",
    "#get number of incidents of Prostitution per district\n",
    "dic_year_pros = {}\n",
    "dic_pros = {}\n",
    "for year in years:\n",
    "    dt = data_pros[data_pros['Year'] == year]\n",
    "    dic_pros = {}\n",
    "    for district in un_districts:\n",
    "        df = dt[dt['PdDistrict'] == district]\n",
    "        dic_pros[district] = df.shape[0]\n",
    "    dic_year_pros[year] = dic_pros"
   ]
  },
  {
   "cell_type": "code",
   "execution_count": 5,
   "metadata": {
    "collapsed": false
   },
   "outputs": [],
   "source": [
    "#each point should correspond to a district\n",
    "\n",
    "#x axis should correspond to the total number of prostitution incidents.\n",
    "data_vehic = data[data['Category'] == 'VEHICLE THEFT']\n",
    "districts = list(data_pros['PdDistrict'])\n",
    "un_districts = list(set(districts))\n",
    "\n",
    "#get number of incidents of Prostitution per district\n",
    "dic_year_vehic = {}\n",
    "for year in years:\n",
    "    dt = data_vehic[data_vehic['Year'] == year]\n",
    "    dic_vehic = {}\n",
    "    for district in un_districts:\n",
    "        df = dt[dt['PdDistrict'] == district]\n",
    "        dic_vehic[district] = df.shape[0]\n",
    "    dic_year_vehic[year] = dic_vehic"
   ]
  },
  {
   "cell_type": "code",
   "execution_count": 6,
   "metadata": {
    "collapsed": false
   },
   "outputs": [
    {
     "data": {
      "text/html": [
       "<div>\n",
       "<table border=\"1\" class=\"dataframe\">\n",
       "  <thead>\n",
       "    <tr style=\"text-align: right;\">\n",
       "      <th></th>\n",
       "      <th>district</th>\n",
       "      <th>prostitution03</th>\n",
       "      <th>vtheft03</th>\n",
       "      <th>totalNumber03</th>\n",
       "      <th>prostitution15</th>\n",
       "      <th>vtheft15</th>\n",
       "      <th>totalNumber15</th>\n",
       "    </tr>\n",
       "  </thead>\n",
       "  <tbody>\n",
       "    <tr>\n",
       "      <th>0</th>\n",
       "      <td>CENTRAL</td>\n",
       "      <td>70</td>\n",
       "      <td>1193</td>\n",
       "      <td>1263</td>\n",
       "      <td>44</td>\n",
       "      <td>549</td>\n",
       "      <td>593</td>\n",
       "    </tr>\n",
       "    <tr>\n",
       "      <th>1</th>\n",
       "      <td>NORTHERN</td>\n",
       "      <td>581</td>\n",
       "      <td>1879</td>\n",
       "      <td>2460</td>\n",
       "      <td>42</td>\n",
       "      <td>942</td>\n",
       "      <td>984</td>\n",
       "    </tr>\n",
       "    <tr>\n",
       "      <th>2</th>\n",
       "      <td>INGLESIDE</td>\n",
       "      <td>5</td>\n",
       "      <td>2319</td>\n",
       "      <td>2324</td>\n",
       "      <td>4</td>\n",
       "      <td>1366</td>\n",
       "      <td>1370</td>\n",
       "    </tr>\n",
       "    <tr>\n",
       "      <th>3</th>\n",
       "      <td>SOUTHERN</td>\n",
       "      <td>18</td>\n",
       "      <td>1426</td>\n",
       "      <td>1444</td>\n",
       "      <td>96</td>\n",
       "      <td>793</td>\n",
       "      <td>889</td>\n",
       "    </tr>\n",
       "    <tr>\n",
       "      <th>4</th>\n",
       "      <td>MISSION</td>\n",
       "      <td>713</td>\n",
       "      <td>2063</td>\n",
       "      <td>2776</td>\n",
       "      <td>66</td>\n",
       "      <td>1195</td>\n",
       "      <td>1261</td>\n",
       "    </tr>\n",
       "    <tr>\n",
       "      <th>5</th>\n",
       "      <td>TENDERLOIN</td>\n",
       "      <td>527</td>\n",
       "      <td>371</td>\n",
       "      <td>898</td>\n",
       "      <td>23</td>\n",
       "      <td>112</td>\n",
       "      <td>135</td>\n",
       "    </tr>\n",
       "    <tr>\n",
       "      <th>6</th>\n",
       "      <td>RICHMOND</td>\n",
       "      <td>15</td>\n",
       "      <td>1081</td>\n",
       "      <td>1096</td>\n",
       "      <td>9</td>\n",
       "      <td>561</td>\n",
       "      <td>570</td>\n",
       "    </tr>\n",
       "    <tr>\n",
       "      <th>7</th>\n",
       "      <td>TARAVAL</td>\n",
       "      <td>10</td>\n",
       "      <td>1665</td>\n",
       "      <td>1675</td>\n",
       "      <td>78</td>\n",
       "      <td>786</td>\n",
       "      <td>864</td>\n",
       "    </tr>\n",
       "    <tr>\n",
       "      <th>8</th>\n",
       "      <td>BAYVIEW</td>\n",
       "      <td>11</td>\n",
       "      <td>2121</td>\n",
       "      <td>2132</td>\n",
       "      <td>6</td>\n",
       "      <td>981</td>\n",
       "      <td>987</td>\n",
       "    </tr>\n",
       "    <tr>\n",
       "      <th>9</th>\n",
       "      <td>PARK</td>\n",
       "      <td>2</td>\n",
       "      <td>1207</td>\n",
       "      <td>1209</td>\n",
       "      <td>1</td>\n",
       "      <td>639</td>\n",
       "      <td>640</td>\n",
       "    </tr>\n",
       "  </tbody>\n",
       "</table>\n",
       "</div>"
      ],
      "text/plain": [
       "     district  prostitution03  vtheft03  totalNumber03  prostitution15  \\\n",
       "0     CENTRAL              70      1193           1263              44   \n",
       "1    NORTHERN             581      1879           2460              42   \n",
       "2   INGLESIDE               5      2319           2324               4   \n",
       "3    SOUTHERN              18      1426           1444              96   \n",
       "4     MISSION             713      2063           2776              66   \n",
       "5  TENDERLOIN             527       371            898              23   \n",
       "6    RICHMOND              15      1081           1096               9   \n",
       "7     TARAVAL              10      1665           1675              78   \n",
       "8     BAYVIEW              11      2121           2132               6   \n",
       "9        PARK               2      1207           1209               1   \n",
       "\n",
       "   vtheft15  totalNumber15  \n",
       "0       549            593  \n",
       "1       942            984  \n",
       "2      1366           1370  \n",
       "3       793            889  \n",
       "4      1195           1261  \n",
       "5       112            135  \n",
       "6       561            570  \n",
       "7       786            864  \n",
       "8       981            987  \n",
       "9       639            640  "
      ]
     },
     "execution_count": 6,
     "metadata": {},
     "output_type": "execute_result"
    }
   ],
   "source": [
    "#write data to a csv file in proper format\n",
    "##headers:\n",
    "#district; prostitution03; vtheft03; totalNumber03;  prostitution15; vtheft15; totalNumber15;\n",
    "import pandas as pd\n",
    "\n",
    "df = pd.DataFrame()\n",
    "df['district'] = dic_year_pros[2003].keys()\n",
    "df['prostitution03'] = [val for key, val in dic_year_pros[2003].iteritems()]\n",
    "df['vtheft03'] = [val for key, val in dic_year_vehic[2003].iteritems()]\n",
    "df['totalNumber03'] = [df['prostitution03'].iloc[i] + df['vtheft03'].iloc[i] for i in range(df.shape[0])]\n",
    "df['prostitution15'] = [val for key, val in dic_year_pros[2015].iteritems()]\n",
    "df['vtheft15'] = [val for key, val in dic_year_vehic[2015].iteritems()]\n",
    "df['totalNumber15'] = [df['prostitution15'].iloc[i] + df['vtheft15'].iloc[i] for i in range(df.shape[0])]\n",
    "df"
   ]
  },
  {
   "cell_type": "code",
   "execution_count": 7,
   "metadata": {
    "collapsed": true
   },
   "outputs": [],
   "source": [
    "#write data to csv file\n",
    "#df.to_csv('SF_data.csv', sep=',', header=True)"
   ]
  },
  {
   "cell_type": "markdown",
   "metadata": {
    "collapsed": true
   },
   "source": [
    "### Exercise 2 "
   ]
  },
  {
   "cell_type": "code",
   "execution_count": 8,
   "metadata": {
    "collapsed": true
   },
   "outputs": [],
   "source": [
    "focuscrimes = set(['PROSTITUTION','VEHICLE THEFT','WEAPON LAWS'])"
   ]
  },
  {
   "cell_type": "code",
   "execution_count": 9,
   "metadata": {
    "collapsed": true
   },
   "outputs": [],
   "source": [
    "import matplotlib.pyplot as plt\n",
    "%matplotlib inline\n",
    "\n",
    "#plot histogram\n",
    "def barplot(series, title, figsize, ylabel, flag, rotation):\n",
    "    #plot hist\n",
    "    ax = series.plot(kind='bar', \n",
    "                title = title,\n",
    "                figsize = figsize,\n",
    "                fontsize = 13)\n",
    "    \n",
    "    #set ylabel\n",
    "    ax.set_ylabel(ylabel)\n",
    "    #set xlabel (depending on the flag that comes as a function parameter)\n",
    "    ax.get_xaxis().set_visible(flag)\n",
    "    #set series index as xlabels and rotate them\n",
    "    ax.set_xticklabels(series.index, rotation= rotation)\n",
    "\n",
    "incidents = []\n",
    "\n",
    "def year_by_year_subcat(db_15, focuscrimes):\n",
    "    \n",
    "    index = 1\n",
    "    for crime in focuscrimes:\n",
    "        #filter table by type of crime\n",
    "        db = db_15[db_15['Category'] == crime]\n",
    "        #get year counts of that crime\n",
    "        year_counts = db['Year'].value_counts()\n",
    "        #sort it (from 2003 to 2015)\n",
    "        print crime\n",
    "        year_counts = year_counts.sort_index()\n",
    "        incidents.append(year_counts.values)\n",
    "        #plot it\n",
    "        plt.subplot(7,2,index)\n",
    "        barplot(year_counts, crime, figsize=(20,35), ylabel = 'crime count', flag = True, rotation = 0)\n",
    "        index += 1\n",
    "        \n",
    "    return incidents"
   ]
  },
  {
   "cell_type": "code",
   "execution_count": 10,
   "metadata": {
    "collapsed": false
   },
   "outputs": [
    {
     "name": "stdout",
     "output_type": "stream",
     "text": [
      "WEAPON LAWS\n",
      "VEHICLE THEFT\n",
      "PROSTITUTION\n"
     ]
    },
    {
     "data": {
      "text/plain": [
       "[array([1281, 1252, 1341, 1324, 1318, 1419, 1433, 1349, 1329, 1460, 1536,\n",
       "        1581, 1643]),\n",
       " array([15325, 17884, 18194,  7291,  6460,  6053,  5183,  4346,  4762,\n",
       "         6183,  6241,  7113,  7924]),\n",
       " array([1952, 1527, 1103, 1290, 1873, 1673, 1468, 1299, 1094,  690,  692,\n",
       "         449,  369])]"
      ]
     },
     "execution_count": 10,
     "metadata": {},
     "output_type": "execute_result"
    },
    {
     "data": {
      "image/png": "[encoded data removed]",
      "text/plain": [
       "<matplotlib.figure.Figure at 0x7ff26edd50d0>"
      ]
     },
     "metadata": {},
     "output_type": "display_data"
    }
   ],
   "source": [
    "year_by_year_subcat(data, focuscrimes)"
   ]
  },
  {
   "cell_type": "code",
   "execution_count": 11,
   "metadata": {
    "collapsed": false
   },
   "outputs": [],
   "source": [
    "weapon_incidents = list(incidents[0])\n",
    "vehic_incidents = list(incidents[1])\n",
    "prost_incidents = list(incidents[2])\n",
    "\n",
    "df = pd.DataFrame()\n",
    "df['vtheft03_15'] = vehic_incidents\n",
    "df['prost03_15'] = prost_incidents\n",
    "df['weapons03_15'] = weapon_incidents"
   ]
  },
  {
   "cell_type": "code",
   "execution_count": 12,
   "metadata": {
    "collapsed": true
   },
   "outputs": [],
   "source": [
    "#write data to csv file\n",
    "df.to_csv('SF_hist.csv', sep=',', header=True)"
   ]
  },
  {
   "cell_type": "code",
   "execution_count": 13,
   "metadata": {
    "collapsed": false
   },
   "outputs": [
    {
     "data": {
      "text/html": [
       "<div>\n",
       "<table border=\"1\" class=\"dataframe\">\n",
       "  <thead>\n",
       "    <tr style=\"text-align: right;\">\n",
       "      <th></th>\n",
       "      <th>vtheft03_15</th>\n",
       "      <th>prost03_15</th>\n",
       "      <th>weapons03_15</th>\n",
       "    </tr>\n",
       "  </thead>\n",
       "  <tbody>\n",
       "    <tr>\n",
       "      <th>0</th>\n",
       "      <td>15325</td>\n",
       "      <td>1952</td>\n",
       "      <td>1281</td>\n",
       "    </tr>\n",
       "    <tr>\n",
       "      <th>1</th>\n",
       "      <td>17884</td>\n",
       "      <td>1527</td>\n",
       "      <td>1252</td>\n",
       "    </tr>\n",
       "    <tr>\n",
       "      <th>2</th>\n",
       "      <td>18194</td>\n",
       "      <td>1103</td>\n",
       "      <td>1341</td>\n",
       "    </tr>\n",
       "    <tr>\n",
       "      <th>3</th>\n",
       "      <td>7291</td>\n",
       "      <td>1290</td>\n",
       "      <td>1324</td>\n",
       "    </tr>\n",
       "    <tr>\n",
       "      <th>4</th>\n",
       "      <td>6460</td>\n",
       "      <td>1873</td>\n",
       "      <td>1318</td>\n",
       "    </tr>\n",
       "    <tr>\n",
       "      <th>5</th>\n",
       "      <td>6053</td>\n",
       "      <td>1673</td>\n",
       "      <td>1419</td>\n",
       "    </tr>\n",
       "    <tr>\n",
       "      <th>6</th>\n",
       "      <td>5183</td>\n",
       "      <td>1468</td>\n",
       "      <td>1433</td>\n",
       "    </tr>\n",
       "    <tr>\n",
       "      <th>7</th>\n",
       "      <td>4346</td>\n",
       "      <td>1299</td>\n",
       "      <td>1349</td>\n",
       "    </tr>\n",
       "    <tr>\n",
       "      <th>8</th>\n",
       "      <td>4762</td>\n",
       "      <td>1094</td>\n",
       "      <td>1329</td>\n",
       "    </tr>\n",
       "    <tr>\n",
       "      <th>9</th>\n",
       "      <td>6183</td>\n",
       "      <td>690</td>\n",
       "      <td>1460</td>\n",
       "    </tr>\n",
       "    <tr>\n",
       "      <th>10</th>\n",
       "      <td>6241</td>\n",
       "      <td>692</td>\n",
       "      <td>1536</td>\n",
       "    </tr>\n",
       "    <tr>\n",
       "      <th>11</th>\n",
       "      <td>7113</td>\n",
       "      <td>449</td>\n",
       "      <td>1581</td>\n",
       "    </tr>\n",
       "    <tr>\n",
       "      <th>12</th>\n",
       "      <td>7924</td>\n",
       "      <td>369</td>\n",
       "      <td>1643</td>\n",
       "    </tr>\n",
       "  </tbody>\n",
       "</table>\n",
       "</div>"
      ],
      "text/plain": [
       "    vtheft03_15  prost03_15  weapons03_15\n",
       "0         15325        1952          1281\n",
       "1         17884        1527          1252\n",
       "2         18194        1103          1341\n",
       "3          7291        1290          1324\n",
       "4          6460        1873          1318\n",
       "5          6053        1673          1419\n",
       "6          5183        1468          1433\n",
       "7          4346        1299          1349\n",
       "8          4762        1094          1329\n",
       "9          6183         690          1460\n",
       "10         6241         692          1536\n",
       "11         7113         449          1581\n",
       "12         7924         369          1643"
      ]
     },
     "execution_count": 13,
     "metadata": {},
     "output_type": "execute_result"
    }
   ],
   "source": [
    "df"
   ]
  },
  {
   "cell_type": "code",
   "execution_count": null,
   "metadata": {
    "collapsed": true
   },
   "outputs": [],
   "source": []
  }
 ],
 "metadata": {
  "kernelspec": {
   "display_name": "Python 2",
   "language": "python",
   "name": "python2"
  },
  "language_info": {
   "codemirror_mode": {
    "name": "ipython",
    "version": 2
   },
   "file_extension": ".py",
   "mimetype": "text/x-python",
   "name": "python",
   "nbconvert_exporter": "python",
   "pygments_lexer": "ipython2",
   "version": "2.7.11"
  }
 },
 "nbformat": 4,
 "nbformat_minor": 0
}
