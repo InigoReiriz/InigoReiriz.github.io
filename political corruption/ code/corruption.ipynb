{
 "cells": [
  {
   "cell_type": "markdown",
   "metadata": {},
   "source": [
    "# Corruption"
   ]
  },
  {
   "cell_type": "code",
   "execution_count": 1,
   "metadata": {
    "collapsed": true
   },
   "outputs": [],
   "source": [
    "import pandas as pd\n",
    "import numpy as np\n",
    "import bs4\n",
    "from bs4 import BeautifulSoup\n",
    "import urllib2"
   ]
  },
  {
   "cell_type": "code",
   "execution_count": 2,
   "metadata": {
    "collapsed": false
   },
   "outputs": [
    {
     "data": {
      "text/html": [
       "<div>\n",
       "<table border=\"1\" class=\"dataframe\">\n",
       "  <thead>\n",
       "    <tr style=\"text-align: right;\">\n",
       "      <th></th>\n",
       "      <th>Caso</th>\n",
       "      <th>Ambito</th>\n",
       "      <th>Partido</th>\n",
       "    </tr>\n",
       "  </thead>\n",
       "  <tbody>\n",
       "    <tr>\n",
       "      <th>0</th>\n",
       "      <td>Caso AVE</td>\n",
       "      <td>Nacional</td>\n",
       "      <td>Partido Socialista Obrero Español</td>\n",
       "    </tr>\n",
       "    <tr>\n",
       "      <th>1</th>\n",
       "      <td>Caso Acuamed</td>\n",
       "      <td>Nacional</td>\n",
       "      <td>Partido Popular</td>\n",
       "    </tr>\n",
       "    <tr>\n",
       "      <th>2</th>\n",
       "      <td>Caso Almenas</td>\n",
       "      <td>puebla de almenara</td>\n",
       "      <td>Partido Socialista Obrero Español</td>\n",
       "    </tr>\n",
       "    <tr>\n",
       "      <th>3</th>\n",
       "      <td>Caso Andratx</td>\n",
       "      <td>Baleares</td>\n",
       "      <td>Partido Popular</td>\n",
       "    </tr>\n",
       "    <tr>\n",
       "      <th>4</th>\n",
       "      <td>Caso Arcos</td>\n",
       "      <td>Andalucía</td>\n",
       "      <td>Partido Popular</td>\n",
       "    </tr>\n",
       "  </tbody>\n",
       "</table>\n",
       "</div>"
      ],
      "text/plain": [
       "           Caso              Ambito                            Partido\n",
       "0      Caso AVE            Nacional  Partido Socialista Obrero Español\n",
       "1  Caso Acuamed            Nacional                    Partido Popular\n",
       "2  Caso Almenas  puebla de almenara  Partido Socialista Obrero Español\n",
       "3  Caso Andratx            Baleares                    Partido Popular\n",
       "4    Caso Arcos           Andalucía                    Partido Popular"
      ]
     },
     "execution_count": 2,
     "metadata": {},
     "output_type": "execute_result"
    }
   ],
   "source": [
    "#download html table\n",
    "\n",
    "url = 'https://15mpedia.org/wiki/Lista_de_casos_de_corrupci%C3%B3n'\n",
    "\n",
    "#read url\n",
    "html = urllib2.urlopen(url).read()\n",
    "soup = BeautifulSoup(html)\n",
    "tables = soup.findAll(\"table\")\n",
    "\n",
    "Caso = []\n",
    "Ambito = []\n",
    "Partido = []\n",
    "\n",
    "for table in tables:\n",
    "    for row in table.findAll(\"tr\"):\n",
    "        cells = row.findAll(\"td\")\n",
    "        #For each \"tr\", assign each \"td\" to a variable.\n",
    "        if len(cells) == 4:\n",
    "            \n",
    "            Caso.append(cells[0].find(text=True).rstrip())\n",
    "            \n",
    "            if cells[1].find(text=True) == None: Ambito.append(np.nan)\n",
    "            else: Ambito.append(cells[1].find(text=True).rstrip())\n",
    "                \n",
    "            if cells[2].find(text=True) == None: Partido.append(np.nan)\n",
    "            else: Partido.append(cells[2].find(text=True).rstrip())\n",
    "                \n",
    "lista_corrupcion = pd.DataFrame()\n",
    "lista_corrupcion['Caso'] = Caso\n",
    "lista_corrupcion['Ambito'] = Ambito\n",
    "lista_corrupcion['Partido'] = Partido\n",
    "\n",
    "lista_corrupcion.head()"
   ]
  },
  {
   "cell_type": "code",
   "execution_count": null,
   "metadata": {
    "collapsed": true
   },
   "outputs": [],
   "source": []
  }
 ],
 "metadata": {
  "kernelspec": {
   "display_name": "Python 2",
   "language": "python",
   "name": "python2"
  },
  "language_info": {
   "codemirror_mode": {
    "name": "ipython",
    "version": 2
   },
   "file_extension": ".py",
   "mimetype": "text/x-python",
   "name": "python",
   "nbconvert_exporter": "python",
   "pygments_lexer": "ipython2",
   "version": "2.7.11"
  }
 },
 "nbformat": 4,
 "nbformat_minor": 0
}
